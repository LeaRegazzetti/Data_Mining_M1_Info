{
 "cells": [
  {
   "cell_type": "code",
   "execution_count": 1,
   "metadata": {},
   "outputs": [
    {
     "name": "stdout",
     "output_type": "stream",
     "text": [
      "<class 'pandas.core.frame.DataFrame'>\n",
      "RangeIndex: 4940210 entries, 0 to 4940209\n",
      "Columns: 199 entries, V1 to V199\n",
      "dtypes: float64(15), int64(181), object(3)\n",
      "memory usage: 7.3+ GB\n"
     ]
    }
   ],
   "source": [
    "##### Importation du fichier de données et de la liste des variables sélectionnées\n",
    "import os\n",
    "os.chdir('/Users/learegazzetti/Documents/Cours/M1_Info/Data_Mining_M1_Info/Projet')\n",
    "name_data = 'data_sans_etiquettes.txt'\n",
    "\n",
    "import pandas\n",
    "Newdf = pandas.read_csv(name_data, sep = '\\t')\n",
    "Newdf.info()"
   ]
  },
  {
   "cell_type": "code",
   "execution_count": 2,
   "metadata": {},
   "outputs": [],
   "source": [
    "liste_var=pandas.read_csv('variables_importantes_scoring.txt', header=None)\n",
    "liste_var=liste_var[0].values\n",
    "#print(liste_var)"
   ]
  },
  {
   "cell_type": "code",
   "execution_count": 3,
   "metadata": {},
   "outputs": [],
   "source": [
    "#Recodage des variables qualitatives : V160,V161,V162 en variables codées en 0/1\n",
    "import numpy\n",
    "liste_quali=[var for var in Newdf.columns if Newdf[var].dtype==numpy.object_]\n",
    "\n",
    "#Recodage des variables qualitatives\n",
    "df_Recodage= pandas.get_dummies(Newdf[liste_quali])\n",
    "\n",
    "#Constitution du data frame entier avec les variables quantitatives \n",
    "#et qualitatives\n",
    "\n",
    "#Liste des variables quantitatives\n",
    "liste_quanti=[var for var in Newdf.columns if Newdf[var].dtype!=numpy.object_]\n",
    "\n",
    "#Réunir les quantitatives et les variables qualitatives recodées\n",
    "data_New=pandas.concat([Newdf[liste_quanti],df_Recodage],axis=1)"
   ]
  },
  {
   "cell_type": "code",
   "execution_count": 4,
   "metadata": {},
   "outputs": [
    {
     "name": "stdout",
     "output_type": "stream",
     "text": [
      "(4940210, 69)\n"
     ]
    }
   ],
   "source": [
    "#Sélection des variables dans le fichier de données\n",
    "temp = data_New[liste_var]\n",
    "data_selection = temp.values\n",
    "print(data_selection.shape)"
   ]
  },
  {
   "cell_type": "code",
   "execution_count": 5,
   "metadata": {},
   "outputs": [],
   "source": [
    "#librairie chargement du modèle\n",
    "import pickle\n",
    "\n",
    "#ouverture en lecture binaire\n",
    "f = open(\"modele_scoring.sav\",\"rb\")\n",
    "\n",
    "#et chargement\n",
    "mdl = pickle.load(f)\n",
    "\n",
    "#fermeture du fichier\n",
    "f.close()"
   ]
  },
  {
   "cell_type": "code",
   "execution_count": 6,
   "metadata": {},
   "outputs": [
    {
     "name": "stdout",
     "output_type": "stream",
     "text": [
      "<class 'sklearn.linear_model._logistic.LogisticRegression'>\n",
      "LogisticRegression(multi_class='ovr', solver='liblinear')\n"
     ]
    }
   ],
   "source": [
    "#type de l'objet chargé\n",
    "print(type(mdl))\n",
    "print(mdl)"
   ]
  },
  {
   "cell_type": "code",
   "execution_count": 7,
   "metadata": {},
   "outputs": [
    {
     "name": "stdout",
     "output_type": "stream",
     "text": [
      "[[1.00000000e+000 3.99928567e-115]\n",
      " [1.00000000e+000 7.84019730e-020]\n",
      " [1.00000000e+000 1.81522734e-035]\n",
      " ...\n",
      " [1.00000000e+000 5.12084716e-038]\n",
      " [1.00000000e+000 4.47758446e-035]\n",
      " [1.00000000e+000 7.15649716e-046]]\n"
     ]
    }
   ],
   "source": [
    "#calcul des probas d'affectation\n",
    "probas = mdl.predict_proba(data_selection)\n",
    "print(probas)"
   ]
  },
  {
   "cell_type": "code",
   "execution_count": 8,
   "metadata": {},
   "outputs": [
    {
     "name": "stdout",
     "output_type": "stream",
     "text": [
      "[3.99928567e-115 7.84019730e-020 1.81522734e-035 ... 5.12084716e-038\n",
      " 4.47758446e-035 7.15649716e-046]\n"
     ]
    }
   ],
   "source": [
    "#score de 'presence'\n",
    "score = probas[:,1] \n",
    "print(score)"
   ]
  },
  {
   "cell_type": "code",
   "execution_count": 9,
   "metadata": {},
   "outputs": [
    {
     "name": "stdout",
     "output_type": "stream",
     "text": [
      "<class 'pandas.core.frame.DataFrame'>\n",
      "RangeIndex: 4940210 entries, 0 to 4940209\n",
      "Data columns (total 1 columns):\n",
      " #   Column  Dtype  \n",
      "---  ------  -----  \n",
      " 0   score   float64\n",
      "dtypes: float64(1)\n",
      "memory usage: 37.7 MB\n"
     ]
    }
   ],
   "source": [
    "#transformation en data frame\n",
    "dfScore = pandas.DataFrame(score,columns=['score'])\n",
    "dfScore.info()"
   ]
  },
  {
   "cell_type": "code",
   "execution_count": 10,
   "metadata": {},
   "outputs": [],
   "source": [
    "#exportation\n",
    "dfScore.to_csv(\"scores.txt\",index=False)"
   ]
  },
  {
   "cell_type": "code",
   "execution_count": null,
   "metadata": {},
   "outputs": [],
   "source": []
  }
 ],
 "metadata": {
  "kernelspec": {
   "display_name": "Python 3",
   "language": "python",
   "name": "python3"
  },
  "language_info": {
   "codemirror_mode": {
    "name": "ipython",
    "version": 3
   },
   "file_extension": ".py",
   "mimetype": "text/x-python",
   "name": "python",
   "nbconvert_exporter": "python",
   "pygments_lexer": "ipython3",
   "version": "3.8.5"
  }
 },
 "nbformat": 4,
 "nbformat_minor": 4
}
