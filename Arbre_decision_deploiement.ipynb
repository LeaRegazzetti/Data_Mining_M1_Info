{
 "cells": [
  {
   "cell_type": "code",
   "execution_count": 1,
   "metadata": {},
   "outputs": [
    {
     "name": "stdout",
     "output_type": "stream",
     "text": [
      "<class 'pandas.core.frame.DataFrame'>\n",
      "RangeIndex: 4940210 entries, 0 to 4940209\n",
      "Columns: 199 entries, V1 to V199\n",
      "dtypes: float64(15), int64(181), object(3)\n",
      "memory usage: 7.3+ GB\n"
     ]
    }
   ],
   "source": [
    "##### Importation du fichier de données et de la liste des variables sélectionnées\n",
    "import os\n",
    "os.chdir('/Users/learegazzetti/Documents/Cours/M1_Info/Data_Mining_M1_Info/Projet')\n",
    "name_data = 'data_sans_etiquettes.txt'\n",
    "\n",
    "import pandas\n",
    "Newdf = pandas.read_csv(name_data, sep = '\\t')\n",
    "Newdf.info()"
   ]
  },
  {
   "cell_type": "code",
   "execution_count": 14,
   "metadata": {},
   "outputs": [],
   "source": [
    "liste_var=pandas.read_csv('variables_importantes_arbre.txt', header=None)\n",
    "liste_var=liste_var[0].values\n",
    "#print(liste_var)"
   ]
  },
  {
   "cell_type": "code",
   "execution_count": 15,
   "metadata": {},
   "outputs": [],
   "source": [
    "#Recodage des variables qualitatives : V160,V161,V162 en variables codées en 0/1\n",
    "import numpy\n",
    "liste_quali=[var for var in Newdf.columns if Newdf[var].dtype==numpy.object_]\n",
    "\n",
    "df_Recodage= pandas.get_dummies(Newdf[liste_quali])\n",
    "\n",
    "#Constitution du data frame entier avec les variables quantitatives \n",
    "#et qualitatives\n",
    "\n",
    "#Liste des variables quantitatives\n",
    "liste_quanti=[var for var in Newdf.columns if Newdf[var].dtype!=numpy.object_]\n",
    "\n",
    "#Réunir les quantitatives et les variables qualitatives recodées\n",
    "data_New=pandas.concat([Newdf[liste_quanti],df_Recodage],axis=1)"
   ]
  },
  {
   "cell_type": "code",
   "execution_count": 16,
   "metadata": {},
   "outputs": [
    {
     "name": "stdout",
     "output_type": "stream",
     "text": [
      "(4940210, 53)\n"
     ]
    }
   ],
   "source": [
    "#Sélection des variables dans le fichier de données\n",
    "temp = data_New[liste_var]\n",
    "data_selection = temp.values\n",
    "print(data_selection.shape)"
   ]
  },
  {
   "cell_type": "code",
   "execution_count": 17,
   "metadata": {},
   "outputs": [],
   "source": [
    "#librairie chargement du modèle\n",
    "import pickle\n",
    "\n",
    "#ouverture en lecture binaire\n",
    "f = open(\"modele_arbre_decision.sav\",\"rb\")\n",
    "\n",
    "#et chargement\n",
    "mdl = pickle.load(f)\n",
    "\n",
    "#fermeture du fichier\n",
    "f.close()\n"
   ]
  },
  {
   "cell_type": "code",
   "execution_count": 18,
   "metadata": {},
   "outputs": [
    {
     "name": "stdout",
     "output_type": "stream",
     "text": [
      "<class 'sklearn.tree._classes.DecisionTreeClassifier'>\n",
      "DecisionTreeClassifier(ccp_alpha=2.8917195610369708e-06, max_depth=15,\n",
      "                       random_state=1)\n"
     ]
    }
   ],
   "source": [
    "#objet chargé\n",
    "print(type(mdl))\n",
    "print(mdl)"
   ]
  },
  {
   "cell_type": "code",
   "execution_count": 19,
   "metadata": {},
   "outputs": [],
   "source": [
    "#prédiction\n",
    "pred = mdl.predict(data_selection)"
   ]
  },
  {
   "cell_type": "code",
   "execution_count": 20,
   "metadata": {},
   "outputs": [
    {
     "name": "stdout",
     "output_type": "stream",
     "text": [
      "(array(['m1', 'm10', 'm11', 'm12', 'm15', 'm16', 'm17', 'm18', 'm19', 'm2',\n",
      "       'm21', 'm22', 'm23', 'm3', 'm4', 'm5', 'm6', 'm7', 'm8', 'm9'],\n",
      "      dtype=object), array([  21910, 1072230,    2110,  974810,    2660,    9920,      10,\n",
      "         15450, 2807870,     300,    9790,    9600,     210,      60,\n",
      "           490,      40,   12490,     210,      30,      20]))\n"
     ]
    }
   ],
   "source": [
    "#comptage\n",
    "import numpy\n",
    "print(numpy.unique(pred,return_counts=True))\n"
   ]
  },
  {
   "cell_type": "code",
   "execution_count": 21,
   "metadata": {},
   "outputs": [
    {
     "name": "stdout",
     "output_type": "stream",
     "text": [
      "<class 'pandas.core.frame.DataFrame'>\n",
      "RangeIndex: 4940210 entries, 0 to 4940209\n",
      "Data columns (total 1 columns):\n",
      " #   Column      Dtype \n",
      "---  ------      ----- \n",
      " 0   prediction  object\n",
      "dtypes: object(1)\n",
      "memory usage: 37.7+ MB\n"
     ]
    }
   ],
   "source": [
    "#transformation en data frame\n",
    "dfPred = pandas.DataFrame(pred,columns=['prediction'])\n",
    "dfPred.info()\n"
   ]
  },
  {
   "cell_type": "code",
   "execution_count": 22,
   "metadata": {},
   "outputs": [],
   "source": [
    "#exportation\n",
    "dfPred.to_csv(\"predictions.txt\",index=False)"
   ]
  },
  {
   "cell_type": "code",
   "execution_count": null,
   "metadata": {},
   "outputs": [],
   "source": []
  }
 ],
 "metadata": {
  "kernelspec": {
   "display_name": "Python 3",
   "language": "python",
   "name": "python3"
  },
  "language_info": {
   "codemirror_mode": {
    "name": "ipython",
    "version": 3
   },
   "file_extension": ".py",
   "mimetype": "text/x-python",
   "name": "python",
   "nbconvert_exporter": "python",
   "pygments_lexer": "ipython3",
   "version": "3.8.5"
  }
 },
 "nbformat": 4,
 "nbformat_minor": 4
}
