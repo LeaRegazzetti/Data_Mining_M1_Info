{
 "cells": [
  {
   "cell_type": "code",
   "execution_count": 1,
   "metadata": {},
   "outputs": [],
   "source": [
    "#Choix du repertoire de données \n",
    "import os\n",
    "os.chdir('/Users/learegazzetti/Documents/Cours/M1_Info/Data_Mining_M1_Info/Projet')"
   ]
  },
  {
   "cell_type": "code",
   "execution_count": 2,
   "metadata": {},
   "outputs": [],
   "source": [
    "#Importation des données\n",
    "import pandas\n",
    "data=pandas.read_csv('data_avec_etiquettes.txt',sep=\"\\t\")"
   ]
  },
  {
   "cell_type": "code",
   "execution_count": 3,
   "metadata": {},
   "outputs": [
    {
     "name": "stdout",
     "output_type": "stream",
     "text": [
      "(494021, 200)\n"
     ]
    }
   ],
   "source": [
    "print(data.shape)"
   ]
  },
  {
   "cell_type": "code",
   "execution_count": 4,
   "metadata": {},
   "outputs": [],
   "source": [
    "#Recodage des variables qualitatives : V160,V161,V162 en variables codées en 0/1\n",
    "import numpy\n",
    "liste_quali=[var for var in data.columns[:-1] if data[var].dtype==numpy.object_]\n",
    "\n",
    "#Recodage des variables qualitatives\n",
    "df_Recodage= pandas.get_dummies(data[liste_quali])"
   ]
  },
  {
   "cell_type": "code",
   "execution_count": 5,
   "metadata": {},
   "outputs": [],
   "source": [
    "#Constitution du data frame entier avec les variables quantitatives \n",
    "#et qualitatives\n",
    "\n",
    "#Liste des variables quantitatives\n",
    "liste_quanti=[var for var in data.columns[:-1] if data[var].dtype!=numpy.object_]\n",
    "\n",
    "#Réunir les quantitatives et les variables qualitatives recodées\n",
    "data_New=pandas.concat([data[liste_quanti],df_Recodage],axis=1)"
   ]
  },
  {
   "cell_type": "code",
   "execution_count": 6,
   "metadata": {},
   "outputs": [],
   "source": [
    "#Ajouter la variable cible : V200\n",
    "data_New['V200'] = data.V200"
   ]
  },
  {
   "cell_type": "code",
   "execution_count": 7,
   "metadata": {},
   "outputs": [
    {
     "name": "stdout",
     "output_type": "stream",
     "text": [
      "<class 'pandas.core.frame.DataFrame'>\n",
      "RangeIndex: 494021 entries, 0 to 494020\n",
      "Columns: 277 entries, V1 to V200\n",
      "dtypes: float64(15), int64(181), object(1), uint8(80)\n",
      "memory usage: 780.2+ MB\n",
      "None\n"
     ]
    }
   ],
   "source": [
    "#Affichage des informations du fichier\n",
    "print(data_New.info())"
   ]
  },
  {
   "cell_type": "code",
   "execution_count": 9,
   "metadata": {},
   "outputs": [
    {
     "name": "stderr",
     "output_type": "stream",
     "text": [
      "/Users/learegazzetti/opt/anaconda3/lib/python3.8/site-packages/sklearn/feature_selection/_univariate_selection.py:114: UserWarning: Features [174 175] are constant.\n",
      "  warnings.warn(\"Features %s are constant.\" % constant_features_idx,\n",
      "/Users/learegazzetti/opt/anaconda3/lib/python3.8/site-packages/sklearn/feature_selection/_univariate_selection.py:116: RuntimeWarning: invalid value encountered in true_divide\n",
      "  f = msb / msw\n"
     ]
    },
    {
     "data": {
      "text/plain": [
       "Index(['V76', 'V157', 'V159', 'V163', 'V164', 'V165', 'V166', 'V167', 'V168',\n",
       "       'V169',\n",
       "       ...\n",
       "       'V162_m10', 'V162_m11', 'V162_m2', 'V162_m3', 'V162_m4', 'V162_m5',\n",
       "       'V162_m6', 'V162_m7', 'V162_m8', 'V162_m9'],\n",
       "      dtype='object', length=116)"
      ]
     },
     "execution_count": 9,
     "metadata": {},
     "output_type": "execute_result"
    }
   ],
   "source": [
    "#Selection de variables\n",
    "from sklearn.feature_selection import SelectFwe,f_classif\n",
    "select=SelectFwe(f_classif,alpha=0.01)\n",
    "select.fit(data_New[data_New.columns[0:276]],data_New.V200)\n",
    "data_New.columns[0:276][select.pvalues_ < 0.01]"
   ]
  },
  {
   "cell_type": "code",
   "execution_count": 10,
   "metadata": {},
   "outputs": [],
   "source": [
    "temp = data_New.iloc[:,0:276]"
   ]
  },
  {
   "cell_type": "code",
   "execution_count": 11,
   "metadata": {},
   "outputs": [],
   "source": [
    "d = pandas.concat([temp.iloc[:,select.get_support()],data_New.V200],axis=1)"
   ]
  },
  {
   "cell_type": "code",
   "execution_count": 12,
   "metadata": {},
   "outputs": [],
   "source": [
    "#On crée un dataframe composé de la moyenne de chacune des variables pour chaque modalité de V200\n",
    "df = d.groupby('V200').mean()"
   ]
  },
  {
   "cell_type": "code",
   "execution_count": 13,
   "metadata": {},
   "outputs": [
    {
     "data": {
      "text/html": [
       "<div>\n",
       "<style scoped>\n",
       "    .dataframe tbody tr th:only-of-type {\n",
       "        vertical-align: middle;\n",
       "    }\n",
       "\n",
       "    .dataframe tbody tr th {\n",
       "        vertical-align: top;\n",
       "    }\n",
       "\n",
       "    .dataframe thead th {\n",
       "        text-align: right;\n",
       "    }\n",
       "</style>\n",
       "<table border=\"1\" class=\"dataframe\">\n",
       "  <thead>\n",
       "    <tr style=\"text-align: right;\">\n",
       "      <th></th>\n",
       "      <th>V159</th>\n",
       "      <th>V163</th>\n",
       "      <th>V164</th>\n",
       "      <th>V165</th>\n",
       "      <th>V166</th>\n",
       "      <th>V167</th>\n",
       "      <th>V168</th>\n",
       "      <th>V169</th>\n",
       "      <th>V170</th>\n",
       "      <th>V171</th>\n",
       "      <th>...</th>\n",
       "      <th>V162_m10</th>\n",
       "      <th>V162_m11</th>\n",
       "      <th>V162_m2</th>\n",
       "      <th>V162_m3</th>\n",
       "      <th>V162_m4</th>\n",
       "      <th>V162_m5</th>\n",
       "      <th>V162_m6</th>\n",
       "      <th>V162_m7</th>\n",
       "      <th>V162_m8</th>\n",
       "      <th>V162_m9</th>\n",
       "    </tr>\n",
       "    <tr>\n",
       "      <th>V200</th>\n",
       "      <th></th>\n",
       "      <th></th>\n",
       "      <th></th>\n",
       "      <th></th>\n",
       "      <th></th>\n",
       "      <th></th>\n",
       "      <th></th>\n",
       "      <th></th>\n",
       "      <th></th>\n",
       "      <th></th>\n",
       "      <th></th>\n",
       "      <th></th>\n",
       "      <th></th>\n",
       "      <th></th>\n",
       "      <th></th>\n",
       "      <th></th>\n",
       "      <th></th>\n",
       "      <th></th>\n",
       "      <th></th>\n",
       "      <th></th>\n",
       "      <th></th>\n",
       "    </tr>\n",
       "  </thead>\n",
       "  <tbody>\n",
       "    <tr>\n",
       "      <th>m1</th>\n",
       "      <td>0.128915</td>\n",
       "      <td>54156.355878</td>\n",
       "      <td>8232.649569</td>\n",
       "      <td>0.00000</td>\n",
       "      <td>0.0</td>\n",
       "      <td>0.000000</td>\n",
       "      <td>1.963232</td>\n",
       "      <td>0.000000</td>\n",
       "      <td>1.00000</td>\n",
       "      <td>0.966409</td>\n",
       "      <td>...</td>\n",
       "      <td>0.955515</td>\n",
       "      <td>0.000000</td>\n",
       "      <td>0.000000</td>\n",
       "      <td>0.000000</td>\n",
       "      <td>0.0</td>\n",
       "      <td>0.041307</td>\n",
       "      <td>0.000000</td>\n",
       "      <td>0.000908</td>\n",
       "      <td>0.002270</td>\n",
       "      <td>0.000000</td>\n",
       "    </tr>\n",
       "    <tr>\n",
       "      <th>m10</th>\n",
       "      <td>0.000000</td>\n",
       "      <td>0.000000</td>\n",
       "      <td>0.000000</td>\n",
       "      <td>0.00000</td>\n",
       "      <td>0.0</td>\n",
       "      <td>0.000000</td>\n",
       "      <td>0.000000</td>\n",
       "      <td>0.000000</td>\n",
       "      <td>0.00000</td>\n",
       "      <td>0.000000</td>\n",
       "      <td>...</td>\n",
       "      <td>0.000000</td>\n",
       "      <td>0.000000</td>\n",
       "      <td>0.186584</td>\n",
       "      <td>0.004244</td>\n",
       "      <td>0.0</td>\n",
       "      <td>0.000000</td>\n",
       "      <td>0.809172</td>\n",
       "      <td>0.000000</td>\n",
       "      <td>0.000000</td>\n",
       "      <td>0.000000</td>\n",
       "    </tr>\n",
       "    <tr>\n",
       "      <th>m11</th>\n",
       "      <td>0.000000</td>\n",
       "      <td>24.116883</td>\n",
       "      <td>0.000000</td>\n",
       "      <td>0.00000</td>\n",
       "      <td>0.0</td>\n",
       "      <td>0.000000</td>\n",
       "      <td>0.000000</td>\n",
       "      <td>0.000000</td>\n",
       "      <td>0.00000</td>\n",
       "      <td>0.000000</td>\n",
       "      <td>...</td>\n",
       "      <td>0.554113</td>\n",
       "      <td>0.445887</td>\n",
       "      <td>0.000000</td>\n",
       "      <td>0.000000</td>\n",
       "      <td>0.0</td>\n",
       "      <td>0.000000</td>\n",
       "      <td>0.000000</td>\n",
       "      <td>0.000000</td>\n",
       "      <td>0.000000</td>\n",
       "      <td>0.000000</td>\n",
       "    </tr>\n",
       "    <tr>\n",
       "      <th>m12</th>\n",
       "      <td>216.657322</td>\n",
       "      <td>1157.047524</td>\n",
       "      <td>3384.651000</td>\n",
       "      <td>0.00001</td>\n",
       "      <td>0.0</td>\n",
       "      <td>0.000031</td>\n",
       "      <td>0.044512</td>\n",
       "      <td>0.000185</td>\n",
       "      <td>0.71896</td>\n",
       "      <td>0.028537</td>\n",
       "      <td>...</td>\n",
       "      <td>0.942752</td>\n",
       "      <td>0.000000</td>\n",
       "      <td>0.054905</td>\n",
       "      <td>0.000689</td>\n",
       "      <td>0.0</td>\n",
       "      <td>0.000319</td>\n",
       "      <td>0.000524</td>\n",
       "      <td>0.000555</td>\n",
       "      <td>0.000175</td>\n",
       "      <td>0.000072</td>\n",
       "    </tr>\n",
       "    <tr>\n",
       "      <th>m13</th>\n",
       "      <td>41.333333</td>\n",
       "      <td>265.666667</td>\n",
       "      <td>2444.000000</td>\n",
       "      <td>0.00000</td>\n",
       "      <td>0.0</td>\n",
       "      <td>0.000000</td>\n",
       "      <td>0.000000</td>\n",
       "      <td>0.000000</td>\n",
       "      <td>1.00000</td>\n",
       "      <td>0.000000</td>\n",
       "      <td>...</td>\n",
       "      <td>1.000000</td>\n",
       "      <td>0.000000</td>\n",
       "      <td>0.000000</td>\n",
       "      <td>0.000000</td>\n",
       "      <td>0.0</td>\n",
       "      <td>0.000000</td>\n",
       "      <td>0.000000</td>\n",
       "      <td>0.000000</td>\n",
       "      <td>0.000000</td>\n",
       "      <td>0.000000</td>\n",
       "    </tr>\n",
       "  </tbody>\n",
       "</table>\n",
       "<p>5 rows × 113 columns</p>\n",
       "</div>"
      ],
      "text/plain": [
       "            V159          V163         V164     V165  V166      V167  \\\n",
       "V200                                                                   \n",
       "m1      0.128915  54156.355878  8232.649569  0.00000   0.0  0.000000   \n",
       "m10     0.000000      0.000000     0.000000  0.00000   0.0  0.000000   \n",
       "m11     0.000000     24.116883     0.000000  0.00000   0.0  0.000000   \n",
       "m12   216.657322   1157.047524  3384.651000  0.00001   0.0  0.000031   \n",
       "m13    41.333333    265.666667  2444.000000  0.00000   0.0  0.000000   \n",
       "\n",
       "          V168      V169     V170      V171  ...  V162_m10  V162_m11  \\\n",
       "V200                                         ...                       \n",
       "m1    1.963232  0.000000  1.00000  0.966409  ...  0.955515  0.000000   \n",
       "m10   0.000000  0.000000  0.00000  0.000000  ...  0.000000  0.000000   \n",
       "m11   0.000000  0.000000  0.00000  0.000000  ...  0.554113  0.445887   \n",
       "m12   0.044512  0.000185  0.71896  0.028537  ...  0.942752  0.000000   \n",
       "m13   0.000000  0.000000  1.00000  0.000000  ...  1.000000  0.000000   \n",
       "\n",
       "       V162_m2   V162_m3  V162_m4   V162_m5   V162_m6   V162_m7   V162_m8  \\\n",
       "V200                                                                        \n",
       "m1    0.000000  0.000000      0.0  0.041307  0.000000  0.000908  0.002270   \n",
       "m10   0.186584  0.004244      0.0  0.000000  0.809172  0.000000  0.000000   \n",
       "m11   0.000000  0.000000      0.0  0.000000  0.000000  0.000000  0.000000   \n",
       "m12   0.054905  0.000689      0.0  0.000319  0.000524  0.000555  0.000175   \n",
       "m13   0.000000  0.000000      0.0  0.000000  0.000000  0.000000  0.000000   \n",
       "\n",
       "       V162_m9  \n",
       "V200            \n",
       "m1    0.000000  \n",
       "m10   0.000000  \n",
       "m11   0.000000  \n",
       "m12   0.000072  \n",
       "m13   0.000000  \n",
       "\n",
       "[5 rows x 113 columns]"
      ]
     },
     "execution_count": 13,
     "metadata": {},
     "output_type": "execute_result"
    }
   ],
   "source": [
    "df.head()"
   ]
  },
  {
   "cell_type": "code",
   "execution_count": 17,
   "metadata": {},
   "outputs": [],
   "source": [
    "#centrage-réduction des variables\n",
    "from sklearn import preprocessing\n",
    "d_cr = preprocessing.scale(df)"
   ]
  },
  {
   "cell_type": "code",
   "execution_count": 18,
   "metadata": {},
   "outputs": [],
   "source": [
    "#librairie pour la CAH\n",
    "import matplotlib.pyplot as plt\n",
    "from scipy.cluster.hierarchy import dendrogram, linkage, fcluster\n",
    "#construction de la typologie\n",
    "Z = linkage(d_cr,method='ward',metric='euclidean')"
   ]
  },
  {
   "cell_type": "code",
   "execution_count": 19,
   "metadata": {},
   "outputs": [
    {
     "data": {
      "image/png": "[encoded data removed]",
      "text/plain": [
       "<Figure size 432x288 with 1 Axes>"
      ]
     },
     "metadata": {
      "needs_background": "light"
     },
     "output_type": "display_data"
    }
   ],
   "source": [
    "#affichage du dendrogramme\n",
    "plt.title(\"CAH\")\n",
    "dendrogram(Z,labels=df.index,orientation='top',color_threshold=0,leaf_rotation=90)\n",
    "plt.show()"
   ]
  },
  {
   "cell_type": "code",
   "execution_count": 108,
   "metadata": {},
   "outputs": [
    {
     "data": {
      "image/png": "[encoded data removed]",
      "text/plain": [
       "<Figure size 432x288 with 1 Axes>"
      ]
     },
     "metadata": {
      "needs_background": "light"
     },
     "output_type": "display_data"
    }
   ],
   "source": [
    "#et matérialisation des classes\n",
    "plt.title('CAH avec matérialisation des classes')\n",
    "dendrogram(Z,labels=df.index,orientation='top',color_threshold=15,leaf_rotation=90)\n",
    "plt.show()\n"
   ]
  },
  {
   "cell_type": "code",
   "execution_count": 115,
   "metadata": {},
   "outputs": [
    {
     "name": "stdout",
     "output_type": "stream",
     "text": [
      "[2 8 5 4 2 2 1 9 2 7 1 2 2 1 2 2 2 3 5 6 5 2 2]\n"
     ]
    }
   ],
   "source": [
    "#découpage à la hauteur \n",
    "groupes_cah = fcluster(Z, t=15, criterion='distance')\n",
    "print(groupes_cah)"
   ]
  },
  {
   "cell_type": "code",
   "execution_count": 116,
   "metadata": {},
   "outputs": [
    {
     "name": "stdout",
     "output_type": "stream",
     "text": [
      "[13  6 10  0 16 15 14 12 21 11  8  5  4 22 17  3  2 18 20 19  9  1  7]\n"
     ]
    }
   ],
   "source": [
    "#index triés des groupes\n",
    "import numpy as np\n",
    "idg = np.argsort(groupes_cah)\n",
    "print(idg)"
   ]
  },
  {
   "cell_type": "code",
   "execution_count": 117,
   "metadata": {},
   "outputs": [
    {
     "name": "stdout",
     "output_type": "stream",
     "text": [
      "  V200\n",
      "1  m21\n",
      "1  m15\n",
      "1  m19\n",
      "2   m1\n",
      "2   m3\n",
      "2  m23\n",
      "2  m22\n",
      "2  m20\n",
      "2   m8\n",
      "2   m2\n",
      "2  m17\n",
      "2  m14\n",
      "2  m13\n",
      "2   m9\n",
      "3   m4\n",
      "4  m12\n",
      "5  m11\n",
      "5   m5\n",
      "5   m7\n",
      "6   m6\n",
      "7  m18\n",
      "8  m10\n",
      "9  m16\n"
     ]
    }
   ],
   "source": [
    "#affichage des observations et leurs groupes\n",
    "res = pandas.DataFrame(df.index[idg],groupes_cah[idg])\n",
    "print(res)"
   ]
  },
  {
   "cell_type": "code",
   "execution_count": null,
   "metadata": {},
   "outputs": [],
   "source": []
  }
 ],
 "metadata": {
  "kernelspec": {
   "display_name": "Python 3",
   "language": "python",
   "name": "python3"
  },
  "language_info": {
   "codemirror_mode": {
    "name": "ipython",
    "version": 3
   },
   "file_extension": ".py",
   "mimetype": "text/x-python",
   "name": "python",
   "nbconvert_exporter": "python",
   "pygments_lexer": "ipython3",
   "version": "3.8.5"
  }
 },
 "nbformat": 4,
 "nbformat_minor": 4
}
