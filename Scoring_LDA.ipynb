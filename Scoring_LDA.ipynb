{
 "cells": [
  {
   "cell_type": "code",
   "execution_count": 2,
   "metadata": {},
   "outputs": [],
   "source": [
    "#Importation du fichier de données\n",
    "import os\n",
    "os.chdir('/Users/learegazzetti/Documents/Cours/M1_Info/Data_Mining_M1_Info/Projet')\n",
    "\n",
    "import pandas\n",
    "df = pandas.read_csv('data_avec_etiquettes.txt', sep = '\\t')"
   ]
  },
  {
   "cell_type": "code",
   "execution_count": 3,
   "metadata": {},
   "outputs": [],
   "source": [
    "#Recodage de la variable cible pour le scoring\n",
    "import numpy\n",
    "df['V200_recod'] = numpy.where(df['V200']=='m16', 'positive', 'negative')"
   ]
  },
  {
   "cell_type": "code",
   "execution_count": 4,
   "metadata": {},
   "outputs": [
    {
     "name": "stdout",
     "output_type": "stream",
     "text": [
      "negative    492981\n",
      "positive      1040\n",
      "Name: V200_recod, dtype: int64\n"
     ]
    }
   ],
   "source": [
    "print(df['V200_recod'].value_counts())"
   ]
  },
  {
   "cell_type": "code",
   "execution_count": 5,
   "metadata": {},
   "outputs": [
    {
     "name": "stdout",
     "output_type": "stream",
     "text": [
      "   V1  V2  V3  V4  V5  V6  V7  V8  V9  V10  ...  V192  V193  V194  V195  V196  \\\n",
      "0   0   0   1   5   0   8   0   1   5    1  ...   1.0   0.0  0.11   0.0   0.0   \n",
      "1   0   0   1   1   1   7   0   1   8    1  ...   1.0   0.0  0.05   0.0   0.0   \n",
      "2   1   0   0   9   0   2   0   0   3    1  ...   1.0   0.0  0.03   0.0   0.0   \n",
      "3   0   0   0   5   0   3   1   0   0    0  ...   1.0   0.0  0.03   0.0   0.0   \n",
      "4   0   1   0   9   1   4   0   1   4    1  ...   1.0   0.0  0.02   0.0   0.0   \n",
      "\n",
      "   V197  V198  V199  V200  V200_recod  \n",
      "0   0.0   0.0   0.0   m12    negative  \n",
      "1   0.0   0.0   0.0   m12    negative  \n",
      "2   0.0   0.0   0.0   m12    negative  \n",
      "3   0.0   0.0   0.0   m12    negative  \n",
      "4   0.0   0.0   0.0   m12    negative  \n",
      "\n",
      "[5 rows x 201 columns]\n"
     ]
    }
   ],
   "source": [
    "print(df.head())"
   ]
  },
  {
   "cell_type": "code",
   "execution_count": 6,
   "metadata": {},
   "outputs": [],
   "source": [
    "#On ne garde pas la variable cible avec les 23 modalités\n",
    "df = df.loc[:,df.columns!=\"V200\"]"
   ]
  },
  {
   "cell_type": "code",
   "execution_count": 7,
   "metadata": {},
   "outputs": [
    {
     "name": "stdout",
     "output_type": "stream",
     "text": [
      "   V1  V2  V3  V4  V5  V6  V7  V8  V9  V10  ...  V191  V192  V193  V194  V195  \\\n",
      "0   0   0   1   5   0   8   0   1   5    1  ...     9   1.0   0.0  0.11   0.0   \n",
      "1   0   0   1   1   1   7   0   1   8    1  ...    19   1.0   0.0  0.05   0.0   \n",
      "2   1   0   0   9   0   2   0   0   3    1  ...    29   1.0   0.0  0.03   0.0   \n",
      "3   0   0   0   5   0   3   1   0   0    0  ...    39   1.0   0.0  0.03   0.0   \n",
      "4   0   1   0   9   1   4   0   1   4    1  ...    49   1.0   0.0  0.02   0.0   \n",
      "\n",
      "   V196  V197  V198  V199  V200_recod  \n",
      "0   0.0   0.0   0.0   0.0    negative  \n",
      "1   0.0   0.0   0.0   0.0    negative  \n",
      "2   0.0   0.0   0.0   0.0    negative  \n",
      "3   0.0   0.0   0.0   0.0    negative  \n",
      "4   0.0   0.0   0.0   0.0    negative  \n",
      "\n",
      "[5 rows x 200 columns]\n"
     ]
    }
   ],
   "source": [
    "print(df.head())"
   ]
  },
  {
   "cell_type": "code",
   "execution_count": 8,
   "metadata": {},
   "outputs": [
    {
     "name": "stdout",
     "output_type": "stream",
     "text": [
      "['V160', 'V161', 'V162']\n"
     ]
    }
   ],
   "source": [
    "#Création des dummies variables pour les modalités des variables quantitatives (V160,V161 et V162)\n",
    "\n",
    "#liste des variables qualitatives\n",
    "lstQuali = [var for var in df.columns[:-1] if df[var].dtype == numpy.object_]\n",
    "print(lstQuali)"
   ]
  },
  {
   "cell_type": "code",
   "execution_count": 9,
   "metadata": {},
   "outputs": [
    {
     "name": "stdout",
     "output_type": "stream",
     "text": [
      "<class 'pandas.core.frame.DataFrame'>\n",
      "RangeIndex: 494021 entries, 0 to 494020\n",
      "Data columns (total 77 columns):\n",
      " #   Column    Non-Null Count   Dtype\n",
      "---  ------    --------------   -----\n",
      " 0   V160_m2   494021 non-null  uint8\n",
      " 1   V160_m3   494021 non-null  uint8\n",
      " 2   V161_m10  494021 non-null  uint8\n",
      " 3   V161_m11  494021 non-null  uint8\n",
      " 4   V161_m12  494021 non-null  uint8\n",
      " 5   V161_m13  494021 non-null  uint8\n",
      " 6   V161_m14  494021 non-null  uint8\n",
      " 7   V161_m15  494021 non-null  uint8\n",
      " 8   V161_m16  494021 non-null  uint8\n",
      " 9   V161_m17  494021 non-null  uint8\n",
      " 10  V161_m18  494021 non-null  uint8\n",
      " 11  V161_m19  494021 non-null  uint8\n",
      " 12  V161_m2   494021 non-null  uint8\n",
      " 13  V161_m20  494021 non-null  uint8\n",
      " 14  V161_m21  494021 non-null  uint8\n",
      " 15  V161_m22  494021 non-null  uint8\n",
      " 16  V161_m23  494021 non-null  uint8\n",
      " 17  V161_m24  494021 non-null  uint8\n",
      " 18  V161_m25  494021 non-null  uint8\n",
      " 19  V161_m26  494021 non-null  uint8\n",
      " 20  V161_m27  494021 non-null  uint8\n",
      " 21  V161_m28  494021 non-null  uint8\n",
      " 22  V161_m29  494021 non-null  uint8\n",
      " 23  V161_m3   494021 non-null  uint8\n",
      " 24  V161_m30  494021 non-null  uint8\n",
      " 25  V161_m31  494021 non-null  uint8\n",
      " 26  V161_m32  494021 non-null  uint8\n",
      " 27  V161_m33  494021 non-null  uint8\n",
      " 28  V161_m34  494021 non-null  uint8\n",
      " 29  V161_m35  494021 non-null  uint8\n",
      " 30  V161_m36  494021 non-null  uint8\n",
      " 31  V161_m37  494021 non-null  uint8\n",
      " 32  V161_m38  494021 non-null  uint8\n",
      " 33  V161_m39  494021 non-null  uint8\n",
      " 34  V161_m4   494021 non-null  uint8\n",
      " 35  V161_m40  494021 non-null  uint8\n",
      " 36  V161_m41  494021 non-null  uint8\n",
      " 37  V161_m42  494021 non-null  uint8\n",
      " 38  V161_m43  494021 non-null  uint8\n",
      " 39  V161_m44  494021 non-null  uint8\n",
      " 40  V161_m45  494021 non-null  uint8\n",
      " 41  V161_m46  494021 non-null  uint8\n",
      " 42  V161_m47  494021 non-null  uint8\n",
      " 43  V161_m48  494021 non-null  uint8\n",
      " 44  V161_m49  494021 non-null  uint8\n",
      " 45  V161_m5   494021 non-null  uint8\n",
      " 46  V161_m50  494021 non-null  uint8\n",
      " 47  V161_m51  494021 non-null  uint8\n",
      " 48  V161_m52  494021 non-null  uint8\n",
      " 49  V161_m53  494021 non-null  uint8\n",
      " 50  V161_m54  494021 non-null  uint8\n",
      " 51  V161_m55  494021 non-null  uint8\n",
      " 52  V161_m56  494021 non-null  uint8\n",
      " 53  V161_m57  494021 non-null  uint8\n",
      " 54  V161_m58  494021 non-null  uint8\n",
      " 55  V161_m59  494021 non-null  uint8\n",
      " 56  V161_m6   494021 non-null  uint8\n",
      " 57  V161_m60  494021 non-null  uint8\n",
      " 58  V161_m61  494021 non-null  uint8\n",
      " 59  V161_m62  494021 non-null  uint8\n",
      " 60  V161_m63  494021 non-null  uint8\n",
      " 61  V161_m64  494021 non-null  uint8\n",
      " 62  V161_m65  494021 non-null  uint8\n",
      " 63  V161_m66  494021 non-null  uint8\n",
      " 64  V161_m7   494021 non-null  uint8\n",
      " 65  V161_m8   494021 non-null  uint8\n",
      " 66  V161_m9   494021 non-null  uint8\n",
      " 67  V162_m10  494021 non-null  uint8\n",
      " 68  V162_m11  494021 non-null  uint8\n",
      " 69  V162_m2   494021 non-null  uint8\n",
      " 70  V162_m3   494021 non-null  uint8\n",
      " 71  V162_m4   494021 non-null  uint8\n",
      " 72  V162_m5   494021 non-null  uint8\n",
      " 73  V162_m6   494021 non-null  uint8\n",
      " 74  V162_m7   494021 non-null  uint8\n",
      " 75  V162_m8   494021 non-null  uint8\n",
      " 76  V162_m9   494021 non-null  uint8\n",
      "dtypes: uint8(77)\n",
      "memory usage: 36.3 MB\n",
      "None\n"
     ]
    }
   ],
   "source": [
    "#Recodage des variables qualitatives\n",
    "dfQualiEncoded = pandas.get_dummies(df[lstQuali],drop_first=True)\n",
    "#Pour l'analyse discriminante on produit M-1 indicatrices avec M le nombre de modalités de la variable\n",
    "#afin d'éviter des problèmes de colinéarité c'est ce que permet le paramètre drop_first = True\n",
    "#C'est-à-dire qu'on ne crée pas d'indicatrice pour la première modalité \n",
    "#Au final on a 77 variables\n",
    "print(dfQualiEncoded.info())"
   ]
  },
  {
   "cell_type": "code",
   "execution_count": 10,
   "metadata": {},
   "outputs": [
    {
     "name": "stdout",
     "output_type": "stream",
     "text": [
      "['V1', 'V2', 'V3', 'V4', 'V5', 'V6', 'V7', 'V8', 'V9', 'V10', 'V11', 'V12', 'V13', 'V14', 'V15', 'V16', 'V17', 'V18', 'V19', 'V20', 'V21', 'V22', 'V23', 'V24', 'V25', 'V26', 'V27', 'V28', 'V29', 'V30', 'V31', 'V32', 'V33', 'V34', 'V35', 'V36', 'V37', 'V38', 'V39', 'V40', 'V41', 'V42', 'V43', 'V44', 'V45', 'V46', 'V47', 'V48', 'V49', 'V50', 'V51', 'V52', 'V53', 'V54', 'V55', 'V56', 'V57', 'V58', 'V59', 'V60', 'V61', 'V62', 'V63', 'V64', 'V65', 'V66', 'V67', 'V68', 'V69', 'V70', 'V71', 'V72', 'V73', 'V74', 'V75', 'V76', 'V77', 'V78', 'V79', 'V80', 'V81', 'V82', 'V83', 'V84', 'V85', 'V86', 'V87', 'V88', 'V89', 'V90', 'V91', 'V92', 'V93', 'V94', 'V95', 'V96', 'V97', 'V98', 'V99', 'V100', 'V101', 'V102', 'V103', 'V104', 'V105', 'V106', 'V107', 'V108', 'V109', 'V110', 'V111', 'V112', 'V113', 'V114', 'V115', 'V116', 'V117', 'V118', 'V119', 'V120', 'V121', 'V122', 'V123', 'V124', 'V125', 'V126', 'V127', 'V128', 'V129', 'V130', 'V131', 'V132', 'V133', 'V134', 'V135', 'V136', 'V137', 'V138', 'V139', 'V140', 'V141', 'V142', 'V143', 'V144', 'V145', 'V146', 'V147', 'V148', 'V149', 'V150', 'V151', 'V152', 'V153', 'V154', 'V155', 'V156', 'V157', 'V158', 'V159', 'V163', 'V164', 'V165', 'V166', 'V167', 'V168', 'V169', 'V170', 'V171', 'V172', 'V173', 'V174', 'V175', 'V176', 'V177', 'V178', 'V179', 'V180', 'V181', 'V182', 'V183', 'V184', 'V185', 'V186', 'V187', 'V188', 'V189', 'V190', 'V191', 'V192', 'V193', 'V194', 'V195', 'V196', 'V197', 'V198', 'V199']\n"
     ]
    }
   ],
   "source": [
    "#liste des variables quantitatives\n",
    "lstQuanti = [var for var in df.columns[:-1] if df[var].dtype != numpy.object_]\n",
    "print(lstQuanti)"
   ]
  },
  {
   "cell_type": "code",
   "execution_count": 11,
   "metadata": {},
   "outputs": [
    {
     "name": "stdout",
     "output_type": "stream",
     "text": [
      "<class 'pandas.core.frame.DataFrame'>\n",
      "RangeIndex: 494021 entries, 0 to 494020\n",
      "Columns: 273 entries, V160_m2 to V199\n",
      "dtypes: float64(15), int64(181), uint8(77)\n",
      "memory usage: 775.0 MB\n",
      "None\n"
     ]
    }
   ],
   "source": [
    "#réunir dummies et quantitatives dans le même data frame\n",
    "dfNew = pandas.concat([dfQualiEncoded,df[lstQuanti]],axis=1)\n",
    "print(dfNew.info())"
   ]
  },
  {
   "cell_type": "code",
   "execution_count": 12,
   "metadata": {},
   "outputs": [
    {
     "name": "stdout",
     "output_type": "stream",
     "text": [
      "<class 'pandas.core.frame.DataFrame'>\n",
      "RangeIndex: 494021 entries, 0 to 494020\n",
      "Columns: 274 entries, V160_m2 to V200_recod\n",
      "dtypes: float64(15), int64(181), object(1), uint8(77)\n",
      "memory usage: 778.8+ MB\n",
      "None\n"
     ]
    }
   ],
   "source": [
    "#rajouter la variable cible\n",
    "dfNew['V200_recod'] = df['V200_recod']\n",
    "print(dfNew.info())"
   ]
  },
  {
   "cell_type": "code",
   "execution_count": 13,
   "metadata": {},
   "outputs": [
    {
     "name": "stdout",
     "output_type": "stream",
     "text": [
      "(345815, 274) (148206, 274)\n"
     ]
    }
   ],
   "source": [
    "#Subdivision des données en échantillon test (test) et échantillon d'apprentissage (train)\n",
    "import sklearn\n",
    "from sklearn import model_selection\n",
    " \n",
    "train,test = model_selection.train_test_split(dfNew,test_size = round(dfNew.shape[0]*30/100),random_state=0) \n",
    "#test_size=30% de 494021 \n",
    "#random_state fixé à 0 pour pouvoir reproduire l'approche \n",
    "\n",
    "print(train.shape,test.shape)"
   ]
  },
  {
   "cell_type": "code",
   "execution_count": 14,
   "metadata": {},
   "outputs": [
    {
     "name": "stdout",
     "output_type": "stream",
     "text": [
      "negative    0.997892\n",
      "positive    0.002108\n",
      "Name: V200_recod, dtype: float64\n",
      "negative    0.997902\n",
      "positive    0.002098\n",
      "Name: V200_recod, dtype: float64\n"
     ]
    }
   ],
   "source": [
    "#Proportions d'observatitons positives et négatives dans les deux sous-échantillons\n",
    "print(train.V200_recod.value_counts(normalize=True))\n",
    "print(test.V200_recod.value_counts(normalize=True))"
   ]
  },
  {
   "cell_type": "code",
   "execution_count": 15,
   "metadata": {},
   "outputs": [
    {
     "name": "stdout",
     "output_type": "stream",
     "text": [
      "(345815,) (345815, 273)\n",
      "(148206,) (148206, 273)\n"
     ]
    }
   ],
   "source": [
    "#Isole les variables prédictives (x) de la variable cible (y) pour chaque échantillon (test et train)\n",
    "\n",
    "x_train=train.iloc[:,0:dfNew.shape[1]-1]\n",
    "y_train=train.iloc[:,dfNew.shape[1]-1]\n",
    "print(y_train.shape, x_train.shape)\n",
    "\n",
    "x_test=test.iloc[:,0:dfNew.shape[1]-1]\n",
    "y_test=test.iloc[:,dfNew.shape[1]-1]\n",
    "print(y_test.shape, x_test.shape)"
   ]
  },
  {
   "cell_type": "code",
   "execution_count": 16,
   "metadata": {},
   "outputs": [
    {
     "data": {
      "text/plain": [
       "VarianceThreshold()"
      ]
     },
     "execution_count": 16,
     "metadata": {},
     "output_type": "execute_result"
    }
   ],
   "source": [
    "#Première sélection de variables : pour enlever les colonnes de constantes\n",
    "from sklearn.feature_selection import VarianceThreshold\n",
    "selector = VarianceThreshold()\n",
    "selector.fit(x_train)"
   ]
  },
  {
   "cell_type": "code",
   "execution_count": 17,
   "metadata": {},
   "outputs": [
    {
     "name": "stdout",
     "output_type": "stream",
     "text": [
      "Index(['V178', 'V179'], dtype='object')\n"
     ]
    }
   ],
   "source": [
    "#Liste des variables constantes\n",
    "print(x_train.columns[selector.variances_ == 0])"
   ]
  },
  {
   "cell_type": "code",
   "execution_count": 18,
   "metadata": {},
   "outputs": [
    {
     "name": "stdout",
     "output_type": "stream",
     "text": [
      "(345815, 271)\n"
     ]
    }
   ],
   "source": [
    "#Réduction de la base d'apprentissage aux variables sélectionnées\n",
    "x_train = x_train.iloc[:,selector.get_support()] \n",
    "print(x_train.shape) # 271 variables restantes"
   ]
  },
  {
   "cell_type": "code",
   "execution_count": 19,
   "metadata": {},
   "outputs": [
    {
     "name": "stdout",
     "output_type": "stream",
     "text": [
      "(148206, 271)\n"
     ]
    }
   ],
   "source": [
    "#réduction de la base test aux mêmes variables\n",
    "x_test = x_test.iloc[:,selector.get_support()] \n",
    "print(x_test.shape)"
   ]
  },
  {
   "cell_type": "code",
   "execution_count": 20,
   "metadata": {},
   "outputs": [],
   "source": [
    "#Selection de variables avec les parametres initiaux car les paramètres jouent peu dans l'analyse discriminante\n",
    "#Importation\n",
    "from sklearn.discriminant_analysis import LinearDiscriminantAnalysis\n",
    "\n",
    "#instanciation\n",
    "lda = LinearDiscriminantAnalysis()\n",
    "\n",
    "#algorithme de sélection de var.\n",
    "from sklearn.feature_selection import RFE \n",
    "selecteur = RFE(estimator=lda)"
   ]
  },
  {
   "cell_type": "code",
   "execution_count": 22,
   "metadata": {},
   "outputs": [],
   "source": [
    "#lancer la recherche\n",
    "sol = selecteur.fit(x_train,y_train)"
   ]
  },
  {
   "cell_type": "code",
   "execution_count": 23,
   "metadata": {},
   "outputs": [
    {
     "name": "stdout",
     "output_type": "stream",
     "text": [
      "135\n"
     ]
    }
   ],
   "source": [
    "#nombre de var. sélectionnées\n",
    "print(sol.n_features_) "
   ]
  },
  {
   "cell_type": "code",
   "execution_count": 24,
   "metadata": {},
   "outputs": [
    {
     "name": "stdout",
     "output_type": "stream",
     "text": [
      "[ True  True  True  True  True  True  True  True  True  True  True  True\n",
      "  True  True  True  True  True  True  True  True  True  True  True  True\n",
      "  True  True  True  True  True  True  True  True  True  True  True  True\n",
      "  True  True  True  True  True  True  True  True  True  True  True  True\n",
      "  True  True  True  True  True  True  True  True  True  True  True  True\n",
      "  True  True  True  True  True  True  True  True  True  True  True  True\n",
      "  True  True  True  True  True False  True  True False False False  True\n",
      " False False  True False False False False False False False False False\n",
      " False False False False  True False False False False False False False\n",
      " False False False False False False  True  True  True False False False\n",
      " False False False False False False False  True False  True  True False\n",
      "  True False False False  True  True False False False False False False\n",
      " False False False False False False False  True False False False False\n",
      " False False False False False False False False  True False False False\n",
      " False  True False False False False False  True False  True False False\n",
      " False False False  True False False False False False  True False False\n",
      " False False False False False False False  True False  True False False\n",
      " False  True False False False False  True False False False False False\n",
      " False False  True False False False False False  True False  True False\n",
      " False  True  True False False False False False False False False  True\n",
      "  True  True  True  True  True  True  True  True  True  True  True  True\n",
      " False False  True  True  True  True  True  True  True False False  True\n",
      "  True  True  True  True  True  True  True]\n"
     ]
    }
   ],
   "source": [
    "#liste des variables sélectionnées\n",
    "print(sol.support_)"
   ]
  },
  {
   "cell_type": "code",
   "execution_count": 25,
   "metadata": {},
   "outputs": [
    {
     "name": "stdout",
     "output_type": "stream",
     "text": [
      "[  1   1   1   1   1   1   1   1   1   1   1   1   1   1   1   1   1   1\n",
      "   1   1   1   1   1   1   1   1   1   1   1   1   1   1   1   1   1   1\n",
      "   1   1   1   1   1   1   1   1   1   1   1   1   1   1   1   1   1   1\n",
      "   1   1   1   1   1   1   1   1   1   1   1   1   1   1   1   1   1   1\n",
      "   1   1   1   1   1  24   1   1  56  65  96   1 108 114   1  71  73 109\n",
      "  99  14 129  17  22  40 119  82  80  74   1   4  44  50  89  70  55  91\n",
      "  49  25  94  61 100  45   1   1   1 117  27  37  33  60 135  28 123  53\n",
      "  92   1  20   1   1  41   1  31 133  79   1   1  84  21  77 128  30  90\n",
      " 110  32 106 113  54  88  51   1  39  57 102  42 121  67 126 122 105 107\n",
      "  38  81   1   2   8  62  23   1  12  72  66 118  69   1   9   1  75 101\n",
      "  86 116  16   1  48 132 111  46 130   1  68  95  97  98  64  29   3 103\n",
      "  93   1  58   1 104   7   5   1 115 112 124 120   1  85  15   6  34  18\n",
      "  47  43   1  13  35  59  87 131   1  76   1  19  78   1   1 125  26 127\n",
      "  52 134 137 136  10   1   1   1   1   1   1   1   1   1   1   1   1   1\n",
      "  63  83   1   1   1   1   1   1   1  36  11   1   1   1   1   1   1   1\n",
      "   1]\n"
     ]
    }
   ],
   "source": [
    "#ordre de suppression\n",
    "print(sol.ranking_)"
   ]
  },
  {
   "cell_type": "code",
   "execution_count": 26,
   "metadata": {},
   "outputs": [
    {
     "data": {
      "text/plain": [
       "Index(['V160_m2', 'V160_m3', 'V161_m10', 'V161_m11', 'V161_m12', 'V161_m13',\n",
       "       'V161_m14', 'V161_m15', 'V161_m16', 'V161_m17',\n",
       "       ...\n",
       "       'V190', 'V191', 'V192', 'V193', 'V194', 'V195', 'V196', 'V197', 'V198',\n",
       "       'V199'],\n",
       "      dtype='object', length=271)"
      ]
     },
     "execution_count": 26,
     "metadata": {},
     "output_type": "execute_result"
    }
   ],
   "source": [
    "#liste initiale des variables \n",
    "x_train.columns"
   ]
  },
  {
   "cell_type": "code",
   "execution_count": 27,
   "metadata": {},
   "outputs": [
    {
     "name": "stdout",
     "output_type": "stream",
     "text": [
      "(345815, 135)\n"
     ]
    }
   ],
   "source": [
    "#réduction de la base d'app. aux var. sélectionnées\n",
    "#en utilisant le filtre booléen sol.support_\n",
    "x_new_train = x_train.iloc[:,sol.support_] \n",
    "print(x_new_train.shape) # 135 variables restantes"
   ]
  },
  {
   "cell_type": "code",
   "execution_count": 28,
   "metadata": {},
   "outputs": [
    {
     "name": "stdout",
     "output_type": "stream",
     "text": [
      "(148206, 135)\n"
     ]
    }
   ],
   "source": [
    "#réduction de la base test aux mêmes variables\n",
    "x_new_test = x_test.iloc[:,sol.support_] \n",
    "print(x_new_test.shape)"
   ]
  },
  {
   "cell_type": "code",
   "execution_count": 29,
   "metadata": {},
   "outputs": [
    {
     "name": "stdout",
     "output_type": "stream",
     "text": [
      "            0\n",
      "0     V160_m2\n",
      "1     V160_m3\n",
      "2    V161_m10\n",
      "3    V161_m11\n",
      "4    V161_m12\n",
      "..        ...\n",
      "130      V195\n",
      "131      V196\n",
      "132      V197\n",
      "133      V198\n",
      "134      V199\n",
      "\n",
      "[135 rows x 1 columns]\n"
     ]
    }
   ],
   "source": [
    "#Liste des variables sélectionnées\n",
    "variables_importantes = pandas.DataFrame(x_new_train.columns)\n",
    "print(variables_importantes)"
   ]
  },
  {
   "cell_type": "code",
   "execution_count": 31,
   "metadata": {},
   "outputs": [],
   "source": [
    "#modélisation sur les données d'apprentissage\n",
    "modele = lda.fit(x_new_train,y_train)\n"
   ]
  },
  {
   "cell_type": "code",
   "execution_count": 33,
   "metadata": {},
   "outputs": [],
   "source": [
    "y_pred_selLDA = modele.predict(x_new_test)"
   ]
  },
  {
   "cell_type": "code",
   "execution_count": 34,
   "metadata": {},
   "outputs": [
    {
     "name": "stdout",
     "output_type": "stream",
     "text": [
      "0.0007691996275454027\n"
     ]
    }
   ],
   "source": [
    "#évaluation\n",
    "from sklearn import metrics\n",
    "print(1.0 - metrics.accuracy_score(y_test,y_pred_selLDA))"
   ]
  },
  {
   "cell_type": "code",
   "execution_count": 31,
   "metadata": {},
   "outputs": [
    {
     "name": "stdout",
     "output_type": "stream",
     "text": [
      "[[1. 0.]\n",
      " [1. 0.]\n",
      " [1. 0.]\n",
      " ...\n",
      " [1. 0.]\n",
      " [1. 0.]\n",
      " [1. 0.]]\n"
     ]
    }
   ],
   "source": [
    "#calcul des probas d'affectation sur ech. test\n",
    "probas = lda.predict_proba(x_new_test)\n",
    "print(probas)"
   ]
  },
  {
   "cell_type": "code",
   "execution_count": 32,
   "metadata": {},
   "outputs": [
    {
     "name": "stdout",
     "output_type": "stream",
     "text": [
      "[0. 0. 0. ... 0. 0. 0.]\n"
     ]
    }
   ],
   "source": [
    "#score de 'presence'\n",
    "score = probas[:,1] \n",
    "print(score)"
   ]
  },
  {
   "cell_type": "code",
   "execution_count": 33,
   "metadata": {},
   "outputs": [
    {
     "name": "stdout",
     "output_type": "stream",
     "text": [
      "        negative  positive\n",
      "22650          1         0\n",
      "5765           1         0\n",
      "241826         1         0\n",
      "292391         1         0\n",
      "392127         1         0\n",
      "...          ...       ...\n",
      "30716          1         0\n",
      "251770         1         0\n",
      "132756         1         0\n",
      "220325         1         0\n",
      "432762         1         0\n",
      "\n",
      "[148206 rows x 2 columns]\n"
     ]
    }
   ],
   "source": [
    "#transf. en 0/1 de Y_test\n",
    "pos = pandas.get_dummies(y_test)\n",
    "print(pos)\n"
   ]
  },
  {
   "cell_type": "code",
   "execution_count": 34,
   "metadata": {},
   "outputs": [
    {
     "name": "stdout",
     "output_type": "stream",
     "text": [
      "[0 0 0 ... 0 0 0]\n"
     ]
    }
   ],
   "source": [
    "#on ne récupère que la 2è colonne (indice 1)\n",
    "pos = pos.values[:,1]\n",
    "print(pos)"
   ]
  },
  {
   "cell_type": "code",
   "execution_count": 35,
   "metadata": {},
   "outputs": [
    {
     "name": "stdout",
     "output_type": "stream",
     "text": [
      "311\n"
     ]
    }
   ],
   "source": [
    "#nombre total de positif\n",
    "import numpy\n",
    "npos = numpy.sum(pos)\n",
    "print(npos)\n"
   ]
  },
  {
   "cell_type": "code",
   "execution_count": 36,
   "metadata": {},
   "outputs": [
    {
     "name": "stdout",
     "output_type": "stream",
     "text": [
      "[39455 42354 35919 ... 98621 98620     0]\n"
     ]
    }
   ],
   "source": [
    "#index pour tri selon le score croissant\n",
    "index = numpy.argsort(score)\n",
    "index = index[::-1]  \n",
    "print(index)\n"
   ]
  },
  {
   "cell_type": "code",
   "execution_count": 37,
   "metadata": {},
   "outputs": [
    {
     "name": "stdout",
     "output_type": "stream",
     "text": [
      "[1 1 1 ... 0 0 0]\n"
     ]
    }
   ],
   "source": [
    "#tri des individus (des valeurs 0/1)\n",
    "sort_pos = pos[index] \n",
    "print(sort_pos)"
   ]
  },
  {
   "cell_type": "code",
   "execution_count": 38,
   "metadata": {},
   "outputs": [
    {
     "name": "stdout",
     "output_type": "stream",
     "text": [
      "[  1   2   3 ... 311 311 311]\n"
     ]
    }
   ],
   "source": [
    "#somme cumulée\n",
    "cpos = numpy.cumsum(sort_pos) \n",
    "print(cpos)"
   ]
  },
  {
   "cell_type": "code",
   "execution_count": 39,
   "metadata": {},
   "outputs": [
    {
     "name": "stdout",
     "output_type": "stream",
     "text": [
      "[0.00321543 0.00643087 0.0096463  ... 1.         1.         1.        ]\n"
     ]
    }
   ],
   "source": [
    "#rappel\n",
    "rappel = cpos/npos  \n",
    "print(rappel)"
   ]
  },
  {
   "cell_type": "code",
   "execution_count": 40,
   "metadata": {},
   "outputs": [
    {
     "name": "stdout",
     "output_type": "stream",
     "text": [
      "148206\n"
     ]
    }
   ],
   "source": [
    "#nb. obs ech.test\n",
    "n = y_test.shape[0] \n",
    "print(n)\n",
    "#taille de cible – séquence de valeurs de 1 à 1001 avec un pas de 1\n",
    "taille = numpy.arange(start=1,stop=148207,step=1)\n",
    "#passer en proportion\n",
    "taille = taille / n "
   ]
  },
  {
   "cell_type": "code",
   "execution_count": 41,
   "metadata": {},
   "outputs": [
    {
     "data": {
      "image/png": "[encoded data removed]",
      "text/plain": [
       "<Figure size 432x288 with 1 Axes>"
      ]
     },
     "metadata": {
      "needs_background": "light"
     },
     "output_type": "display_data"
    }
   ],
   "source": [
    "#graphique avec matplotlib\n",
    "import matplotlib.pyplot as plt\n",
    "#titre et en-têtes\n",
    "plt.title('Courbe de gain') \n",
    "plt.xlabel('Taille de cible') \n",
    "plt.ylabel('Rappel')\n",
    "#limites en abscisse et ordonnée\n",
    "plt.xlim(0,1) \n",
    "plt.ylim(0,1)\n",
    "#astuce pour tracer la diagonale\n",
    "plt.scatter(taille,taille,marker='.',color='blue') \n",
    "#insertion du couple (taille, rappel)\n",
    "plt.scatter(taille,rappel,marker='.',color='red')\n",
    "#affichage\n",
    "plt.show()\n",
    "plt.cla()\n",
    "plt.clf()\n",
    "plt.close()"
   ]
  },
  {
   "cell_type": "code",
   "execution_count": 42,
   "metadata": {},
   "outputs": [
    {
     "data": {
      "text/plain": [
       "array([[   0],\n",
       "       [   1],\n",
       "       [   2],\n",
       "       ...,\n",
       "       [9997],\n",
       "       [9998],\n",
       "       [9999]])"
      ]
     },
     "execution_count": 42,
     "metadata": {},
     "output_type": "execute_result"
    }
   ],
   "source": [
    "#recherche des 10000 / 148206 en se basant sur la taille\n",
    "numpy.argwhere(taille <= 10000/148206)\n"
   ]
  },
  {
   "cell_type": "code",
   "execution_count": 43,
   "metadata": {},
   "outputs": [
    {
     "name": "stdout",
     "output_type": "stream",
     "text": [
      "0.9967845659163987\n"
     ]
    }
   ],
   "source": [
    "#indice = 9999, ce qui est logique\n",
    "#quel est le rappel correspondant\n",
    "prop_pos = rappel[9999]\n",
    "print(prop_pos)\n"
   ]
  },
  {
   "cell_type": "code",
   "execution_count": 44,
   "metadata": {},
   "outputs": [
    {
     "name": "stdout",
     "output_type": "stream",
     "text": [
      "310.0\n"
     ]
    }
   ],
   "source": [
    "#on multiple par le nombre de positifs\n",
    "print(prop_pos * npos)"
   ]
  },
  {
   "cell_type": "code",
   "execution_count": null,
   "metadata": {},
   "outputs": [],
   "source": []
  }
 ],
 "metadata": {
  "kernelspec": {
   "display_name": "Python 3",
   "language": "python",
   "name": "python3"
  },
  "language_info": {
   "codemirror_mode": {
    "name": "ipython",
    "version": 3
   },
   "file_extension": ".py",
   "mimetype": "text/x-python",
   "name": "python",
   "nbconvert_exporter": "python",
   "pygments_lexer": "ipython3",
   "version": "3.8.5"
  }
 },
 "nbformat": 4,
 "nbformat_minor": 4
}
