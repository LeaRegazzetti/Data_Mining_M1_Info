{
 "cells": [
  {
   "cell_type": "code",
   "execution_count": 1,
   "metadata": {},
   "outputs": [],
   "source": [
    "#Importation du fichier de données\n",
    "import os\n",
    "os.chdir('/Users/learegazzetti/Documents/Cours/M1_Info/Data_Mining_M1_Info/Projet')\n",
    "\n",
    "import pandas\n",
    "df = pandas.read_csv('data_avec_etiquettes.txt', sep = '\\t')"
   ]
  },
  {
   "cell_type": "code",
   "execution_count": 2,
   "metadata": {},
   "outputs": [],
   "source": [
    "#Recodage de la variable cible pour le scoring\n",
    "import numpy\n",
    "df['V200_recod'] = numpy.where(df['V200']=='m16', 'positive', 'negative')\n",
    "#On ne garde pas la variable cible avec les 23 modalités\n",
    "df = df.iloc[:,df.columns!=\"V200\"]"
   ]
  },
  {
   "cell_type": "code",
   "execution_count": 3,
   "metadata": {},
   "outputs": [],
   "source": [
    "#Création des dummies variables pour les modalités des variables quantitatives (V160,V161 et V162)\n",
    "\n",
    "#liste des variables qualitatives\n",
    "lstQuali = [var for var in df.columns[:-1] if df[var].dtype == numpy.object_]\n",
    "#Recodage des variables qualitatives\n",
    "dfQualiEncoded = pandas.get_dummies(df[lstQuali],drop_first=True)\n",
    "#liste des variables quantitatives\n",
    "lstQuanti = [var for var in df.columns[:-1] if df[var].dtype != numpy.object_]\n",
    "#réunir dummies et quantitatives dans le même data frame\n",
    "dfNew = pandas.concat([dfQualiEncoded,df[lstQuanti]],axis=1)\n",
    "#rajouter la variable cible\n",
    "dfNew['V200_recod'] = df['V200_recod']"
   ]
  },
  {
   "cell_type": "code",
   "execution_count": 4,
   "metadata": {},
   "outputs": [
    {
     "name": "stdout",
     "output_type": "stream",
     "text": [
      "(345815, 274) (148206, 274)\n"
     ]
    }
   ],
   "source": [
    "#Subdivision des données en échantillon test (test) et échantillon d'apprentissage (train)\n",
    "import sklearn\n",
    "from sklearn import model_selection\n",
    " \n",
    "train,test = model_selection.train_test_split(dfNew,test_size = round(dfNew.shape[0]*30/100),random_state=0) \n",
    "#test_size=30% de 494021 \n",
    "#random_state fixé à 0 pour pouvoir reproduire l'approche \n",
    "\n",
    "print(train.shape,test.shape)"
   ]
  },
  {
   "cell_type": "code",
   "execution_count": 5,
   "metadata": {},
   "outputs": [
    {
     "name": "stdout",
     "output_type": "stream",
     "text": [
      "negative    345086\n",
      "positive       729\n",
      "Name: V200_recod, dtype: int64\n",
      "negative    147895\n",
      "positive       311\n",
      "Name: V200_recod, dtype: int64\n"
     ]
    }
   ],
   "source": [
    "#Proportions d'observatitons positives et négatives dans les deux sous-échantillons\n",
    "print(train.V200_recod.value_counts())\n",
    "print(test.V200_recod.value_counts())"
   ]
  },
  {
   "cell_type": "code",
   "execution_count": 6,
   "metadata": {},
   "outputs": [
    {
     "name": "stdout",
     "output_type": "stream",
     "text": [
      "(345815,) (345815, 273)\n",
      "(148206,) (148206, 273)\n"
     ]
    }
   ],
   "source": [
    "#Isole les variables prédictives (x) de la variable cible (y) pour chaque échantillon (test et train)\n",
    "\n",
    "x_train=train.iloc[:,0:dfNew.shape[1]-1]\n",
    "y_train=train.iloc[:,dfNew.shape[1]-1]\n",
    "print(y_train.shape, x_train.shape)\n",
    "\n",
    "x_test=test.iloc[:,0:dfNew.shape[1]-1]\n",
    "y_test=test.iloc[:,dfNew.shape[1]-1]\n",
    "print(y_test.shape, x_test.shape)"
   ]
  },
  {
   "cell_type": "code",
   "execution_count": 7,
   "metadata": {},
   "outputs": [
    {
     "data": {
      "text/plain": [
       "VarianceThreshold()"
      ]
     },
     "execution_count": 7,
     "metadata": {},
     "output_type": "execute_result"
    }
   ],
   "source": [
    "#Première sélection de variables : pour enlever les colonnes de constantes\n",
    "from sklearn.feature_selection import VarianceThreshold\n",
    "selector = VarianceThreshold()\n",
    "selector.fit(x_train)"
   ]
  },
  {
   "cell_type": "code",
   "execution_count": 8,
   "metadata": {},
   "outputs": [
    {
     "name": "stdout",
     "output_type": "stream",
     "text": [
      "Index(['V178', 'V179'], dtype='object')\n"
     ]
    }
   ],
   "source": [
    "#Liste des variables constantes\n",
    "print(x_train.columns[selector.variances_ == 0])"
   ]
  },
  {
   "cell_type": "code",
   "execution_count": 9,
   "metadata": {},
   "outputs": [
    {
     "name": "stdout",
     "output_type": "stream",
     "text": [
      "(345815, 271)\n"
     ]
    }
   ],
   "source": [
    "#Réduction de la base d'apprentissage aux variables sélectionnées\n",
    "x_train = x_train.iloc[:,selector.get_support()] \n",
    "print(x_train.shape) # 271 variables restantes\n",
    "\n"
   ]
  },
  {
   "cell_type": "code",
   "execution_count": 10,
   "metadata": {},
   "outputs": [
    {
     "name": "stdout",
     "output_type": "stream",
     "text": [
      "(148206, 271)\n"
     ]
    }
   ],
   "source": [
    "#réduction de la base test aux mêmes variables\n",
    "x_test = x_test.iloc[:,selector.get_support()] \n",
    "print(x_test.shape)"
   ]
  },
  {
   "cell_type": "code",
   "execution_count": 11,
   "metadata": {},
   "outputs": [
    {
     "data": {
      "text/plain": [
       "LogisticRegression(multi_class='ovr', solver='liblinear')"
      ]
     },
     "execution_count": 11,
     "metadata": {},
     "output_type": "execute_result"
    }
   ],
   "source": [
    "#classe Régression Logistique\n",
    "from sklearn.linear_model import LogisticRegression \n",
    "#création d'une instance de la classe\n",
    "lr = LogisticRegression(solver='liblinear', multi_class='ovr')\n",
    "#modélisation sur les données d'apprentissage\n",
    "lr.fit(x_train,y_train)\n",
    "\n"
   ]
  },
  {
   "cell_type": "code",
   "execution_count": 12,
   "metadata": {},
   "outputs": [],
   "source": [
    "#algorithme de sélection de var.\n",
    "from sklearn.feature_selection import SelectFromModel \n",
    "selecteur = SelectFromModel(estimator=lr)"
   ]
  },
  {
   "cell_type": "code",
   "execution_count": 13,
   "metadata": {},
   "outputs": [],
   "source": [
    "#lancer la recherche\n",
    "sol = selecteur.fit(x_train,y_train)"
   ]
  },
  {
   "cell_type": "code",
   "execution_count": 14,
   "metadata": {},
   "outputs": [
    {
     "name": "stdout",
     "output_type": "stream",
     "text": [
      "[ True  True False False  True False False False False False False False\n",
      " False  True False False False False False False False False False False\n",
      " False False False False False False False False False  True False False\n",
      " False False False False False False False False False False False False\n",
      " False False False False False False False False False False False False\n",
      " False False False False False False False  True  True  True  True  True\n",
      "  True  True False False False False  True False False False False False\n",
      "  True False  True  True  True False False False False False False False\n",
      " False False False False False False False False False False False False\n",
      " False False False False False False False  True False False False  True\n",
      "  True False False False False False False False False False False False\n",
      "  True  True False False  True False False False False False  True False\n",
      " False False False False  True False False  True  True False False False\n",
      " False  True False False False False  True False  True  True  True False\n",
      " False False  True False  True False False  True  True  True False False\n",
      " False False False False  True False False False False  True False False\n",
      "  True False False False  True False False  True  True  True False False\n",
      " False False False False False False False False False False False  True\n",
      " False False False  True False False False  True  True False  True False\n",
      " False  True False False False  True  True False False  True False False\n",
      " False  True False False False False False False False False False False\n",
      " False  True  True  True  True  True  True  True False False False  True\n",
      "  True  True  True  True  True  True  True]\n"
     ]
    }
   ],
   "source": [
    "#liste des variables sélectionnées\n",
    "print(sol.get_support())"
   ]
  },
  {
   "cell_type": "code",
   "execution_count": 17,
   "metadata": {},
   "outputs": [
    {
     "name": "stdout",
     "output_type": "stream",
     "text": [
      "(345815, 69)\n"
     ]
    }
   ],
   "source": [
    "#réduction de la base d'app. aux var. sélectionnées\n",
    "#en utilisant le filtre booléen sol.get_support()\n",
    "x_new_train = x_train.iloc[:,sol.get_support()] \n",
    "print(x_new_train.shape) # 42 variables restantes"
   ]
  },
  {
   "cell_type": "code",
   "execution_count": 18,
   "metadata": {},
   "outputs": [
    {
     "name": "stdout",
     "output_type": "stream",
     "text": [
      "(148206, 69)\n"
     ]
    }
   ],
   "source": [
    "#réduction de la base test aux mêmes variables\n",
    "x_new_test = x_test.iloc[:,sol.get_support()] \n",
    "print(x_new_test.shape)"
   ]
  },
  {
   "cell_type": "code",
   "execution_count": 19,
   "metadata": {},
   "outputs": [
    {
     "name": "stdout",
     "output_type": "stream",
     "text": [
      "           0\n",
      "0    V160_m2\n",
      "1    V160_m3\n",
      "2   V161_m12\n",
      "3   V161_m20\n",
      "4   V161_m39\n",
      "..       ...\n",
      "64      V195\n",
      "65      V196\n",
      "66      V197\n",
      "67      V198\n",
      "68      V199\n",
      "\n",
      "[69 rows x 1 columns]\n"
     ]
    }
   ],
   "source": [
    "#Liste des variables sélectionnées\n",
    "col = x_train.iloc[:,sol.get_support()]\n",
    "variables_importantes = pandas.DataFrame(col.columns)\n",
    "print(variables_importantes)"
   ]
  },
  {
   "cell_type": "code",
   "execution_count": 20,
   "metadata": {},
   "outputs": [],
   "source": [
    "#Export de la liste des variables qui contribuent pour le déploiement après\n",
    "variables_importantes.to_csv('variables_importantes_scoring.txt', header=False, index=False)"
   ]
  },
  {
   "cell_type": "code",
   "execution_count": 21,
   "metadata": {},
   "outputs": [],
   "source": [
    "#modélisation sur les données d'apprentissage réduites\n",
    "modele = lr.fit(x_new_train,y_train)"
   ]
  },
  {
   "cell_type": "code",
   "execution_count": 22,
   "metadata": {},
   "outputs": [
    {
     "name": "stdout",
     "output_type": "stream",
     "text": [
      "0.00013494730307817004\n"
     ]
    }
   ],
   "source": [
    "pred = modele.predict(x_new_test) \n",
    "\n",
    "#taux d'erreur\n",
    "from sklearn import metrics\n",
    "err = 1.0 - metrics.accuracy_score(y_test,pred)\n",
    "print(err)  #0.00013494730307817004"
   ]
  },
  {
   "cell_type": "code",
   "execution_count": 40,
   "metadata": {},
   "outputs": [
    {
     "name": "stdout",
     "output_type": "stream",
     "text": [
      "         var      coef\n",
      "0    V160_m2  0.448881\n",
      "1    V160_m3 -1.716388\n",
      "2   V161_m12  0.109859\n",
      "3   V161_m20 -2.279058\n",
      "4   V161_m39 -2.964152\n",
      "..       ...       ...\n",
      "64      V195 -1.086432\n",
      "65      V196 -2.745613\n",
      "66      V197 -0.030499\n",
      "67      V198 -1.542917\n",
      "68      V199  1.428344\n",
      "\n",
      "[69 rows x 2 columns]\n",
      "[-1.8299586]\n"
     ]
    }
   ],
   "source": [
    "#affichage des coefficients\n",
    "print(pandas.DataFrame({\"var\":x_new_train.columns,\"coef\":lr.coef_[0]}))\n",
    "#et de la constante\n",
    "print(lr.intercept_)"
   ]
  },
  {
   "cell_type": "code",
   "execution_count": 23,
   "metadata": {},
   "outputs": [
    {
     "name": "stdout",
     "output_type": "stream",
     "text": [
      "[[1.00000000e+000 4.44957199e-013]\n",
      " [1.00000000e+000 7.74991711e-013]\n",
      " [1.00000000e+000 1.21284829e-242]\n",
      " ...\n",
      " [1.00000000e+000 2.94785996e-242]\n",
      " [1.00000000e+000 2.97440474e-241]\n",
      " [1.00000000e+000 2.47743666e-242]]\n"
     ]
    }
   ],
   "source": [
    "#calcul des probas d'affectation sur ech. test\n",
    "probas = modele.predict_proba(x_new_test) \n",
    "print(probas)"
   ]
  },
  {
   "cell_type": "code",
   "execution_count": 24,
   "metadata": {},
   "outputs": [
    {
     "name": "stdout",
     "output_type": "stream",
     "text": [
      "[4.44957199e-013 7.74991711e-013 1.21284829e-242 ... 2.94785996e-242\n",
      " 2.97440474e-241 2.47743666e-242]\n"
     ]
    }
   ],
   "source": [
    "#score de 'presence'\n",
    "score = probas[:,1]\n",
    "print(score)"
   ]
  },
  {
   "cell_type": "code",
   "execution_count": 25,
   "metadata": {},
   "outputs": [
    {
     "name": "stdout",
     "output_type": "stream",
     "text": [
      "[[1 0]\n",
      " [1 0]\n",
      " [1 0]\n",
      " ...\n",
      " [1 0]\n",
      " [1 0]\n",
      " [1 0]]\n"
     ]
    }
   ],
   "source": [
    "#transf. en 0/1 de Y_test\n",
    "pos = pandas.get_dummies(y_test).values\n",
    "print(pos)"
   ]
  },
  {
   "cell_type": "code",
   "execution_count": 26,
   "metadata": {},
   "outputs": [
    {
     "name": "stdout",
     "output_type": "stream",
     "text": [
      "[0 0 0 ... 0 0 0]\n"
     ]
    }
   ],
   "source": [
    "#on ne récupère que la 2è colonne (indice 1)\n",
    "pos = pos[:,1]\n",
    "print(pos)"
   ]
  },
  {
   "cell_type": "code",
   "execution_count": 27,
   "metadata": {},
   "outputs": [
    {
     "name": "stdout",
     "output_type": "stream",
     "text": [
      "311\n"
     ]
    }
   ],
   "source": [
    "#nombre total de positif\n",
    "import numpy\n",
    "npos = numpy.sum(pos)\n",
    "print(npos)"
   ]
  },
  {
   "cell_type": "code",
   "execution_count": 28,
   "metadata": {},
   "outputs": [
    {
     "name": "stdout",
     "output_type": "stream",
     "text": [
      "[ 37170  51891  11355 ...  70193 145560  35203]\n"
     ]
    }
   ],
   "source": [
    "#index pour tri selon le score croissant\n",
    "index = numpy.argsort(score) \n",
    "index = index[::-1]\n",
    "print(index)"
   ]
  },
  {
   "cell_type": "code",
   "execution_count": 29,
   "metadata": {},
   "outputs": [
    {
     "name": "stdout",
     "output_type": "stream",
     "text": [
      "[1 1 1 ... 0 0 0]\n"
     ]
    }
   ],
   "source": [
    "sort_pos = pos[index] #somme cumulée\n",
    "print(sort_pos)"
   ]
  },
  {
   "cell_type": "code",
   "execution_count": 30,
   "metadata": {},
   "outputs": [
    {
     "name": "stdout",
     "output_type": "stream",
     "text": [
      "[  1   2   3 ... 311 311 311]\n"
     ]
    }
   ],
   "source": [
    "cpos = numpy.cumsum(sort_pos)\n",
    "print(cpos)"
   ]
  },
  {
   "cell_type": "code",
   "execution_count": 31,
   "metadata": {},
   "outputs": [
    {
     "name": "stdout",
     "output_type": "stream",
     "text": [
      "[0.00321543 0.00643087 0.0096463  ... 1.         1.         1.        ]\n"
     ]
    }
   ],
   "source": [
    "rappel = cpos/npos   #rappel\n",
    "print(rappel)"
   ]
  },
  {
   "cell_type": "code",
   "execution_count": 32,
   "metadata": {},
   "outputs": [
    {
     "name": "stdout",
     "output_type": "stream",
     "text": [
      "[6.74736515e-06 1.34947303e-05 2.02420955e-05 ... 9.99986505e-01\n",
      " 9.99993253e-01 1.00000000e+00]\n"
     ]
    }
   ],
   "source": [
    "#nb. obs ech.test\n",
    "n = y_test.shape[0] \n",
    "#taille de cible – séquence de valeurs de 1 à n+1 avec un pas de 1\n",
    "taille = numpy.arange(start=1,stop=148207,step=1) \n",
    "#passer en proportion\n",
    "taille = taille / n\n",
    "print(taille)"
   ]
  },
  {
   "cell_type": "code",
   "execution_count": 33,
   "metadata": {},
   "outputs": [
    {
     "data": {
      "image/png": "[encoded data removed]",
      "text/plain": [
       "<Figure size 432x288 with 1 Axes>"
      ]
     },
     "metadata": {
      "needs_background": "light"
     },
     "output_type": "display_data"
    }
   ],
   "source": [
    "#graphique avec matplotlib\n",
    "import matplotlib.pyplot as plt\n",
    "#titre et en-têtes\n",
    "plt.title('Courbe de gain') \n",
    "plt.xlabel('Taille de cible') \n",
    "plt.ylabel('Rappel')\n",
    "#limites en abscisse et ordonnée\n",
    "plt.xlim(0,1) \n",
    "plt.ylim(0,1)\n",
    "#astuce pour tracer la diagonale\n",
    "plt.scatter(taille,taille,marker='.',color='blue') \n",
    "#insertion du couple (taille, rappel)\n",
    "plt.scatter(taille,rappel,marker='.',color='red')\n",
    "#affichage\n",
    "plt.show()"
   ]
  },
  {
   "cell_type": "code",
   "execution_count": null,
   "metadata": {},
   "outputs": [],
   "source": []
  },
  {
   "cell_type": "code",
   "execution_count": 34,
   "metadata": {},
   "outputs": [
    {
     "data": {
      "text/plain": [
       "array([[   0],\n",
       "       [   1],\n",
       "       [   2],\n",
       "       ...,\n",
       "       [9997],\n",
       "       [9998],\n",
       "       [9999]])"
      ]
     },
     "execution_count": 34,
     "metadata": {},
     "output_type": "execute_result"
    }
   ],
   "source": [
    "#recherche des 10000 / 148206 en se basant sur la taille\n",
    "numpy.argwhere(taille <= 10000/148206)\n"
   ]
  },
  {
   "cell_type": "code",
   "execution_count": 35,
   "metadata": {},
   "outputs": [
    {
     "name": "stdout",
     "output_type": "stream",
     "text": [
      "1.0\n"
     ]
    }
   ],
   "source": [
    "#indice = 9999, ce qui est logique\n",
    "#quelle est le rappel correspondant\n",
    "prop_pos = rappel[9999]\n",
    "print(prop_pos)"
   ]
  },
  {
   "cell_type": "code",
   "execution_count": 36,
   "metadata": {},
   "outputs": [
    {
     "name": "stdout",
     "output_type": "stream",
     "text": [
      "311.0\n"
     ]
    }
   ],
   "source": [
    "#on multiple par le nombre de positifs\n",
    "print(prop_pos * npos)"
   ]
  },
  {
   "cell_type": "code",
   "execution_count": null,
   "metadata": {},
   "outputs": [],
   "source": []
  },
  {
   "cell_type": "markdown",
   "metadata": {},
   "source": [
    "SAUVEGARDE DU MODELE"
   ]
  },
  {
   "cell_type": "code",
   "execution_count": 37,
   "metadata": {},
   "outputs": [],
   "source": [
    "#librairie pour sauvegarde du modèle\n",
    "import pickle\n",
    "\n",
    "#référence du fichier - ouverture en écriture binaire\n",
    "f = open(\"modele_scoring.sav\",\"wb\")\n",
    "\n"
   ]
  },
  {
   "cell_type": "code",
   "execution_count": 38,
   "metadata": {},
   "outputs": [],
   "source": [
    "#sauvegarde dans le fichier référencé\n",
    "pickle.dump(lr, f)"
   ]
  },
  {
   "cell_type": "code",
   "execution_count": 39,
   "metadata": {},
   "outputs": [],
   "source": [
    "#fichier qu'il faut fermer\n",
    "f.close()"
   ]
  },
  {
   "cell_type": "code",
   "execution_count": null,
   "metadata": {},
   "outputs": [],
   "source": []
  }
 ],
 "metadata": {
  "kernelspec": {
   "display_name": "Python 3",
   "language": "python",
   "name": "python3"
  },
  "language_info": {
   "codemirror_mode": {
    "name": "ipython",
    "version": 3
   },
   "file_extension": ".py",
   "mimetype": "text/x-python",
   "name": "python",
   "nbconvert_exporter": "python",
   "pygments_lexer": "ipython3",
   "version": "3.8.5"
  }
 },
 "nbformat": 4,
 "nbformat_minor": 4
}
