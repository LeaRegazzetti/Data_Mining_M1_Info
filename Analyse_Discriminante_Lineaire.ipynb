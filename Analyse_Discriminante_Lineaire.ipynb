{
 "cells": [
  {
   "cell_type": "code",
   "execution_count": 31,
   "metadata": {},
   "outputs": [],
   "source": [
    "#Importation du fichier de données\n",
    "import os\n",
    "os.chdir('/Users/learegazzetti/Documents/Cours/M1_Info/Data_Mining_M1_Info/Projet')\n",
    "\n",
    "import pandas\n",
    "df = pandas.read_csv('data_avec_etiquettes.txt', sep = '\\t')"
   ]
  },
  {
   "cell_type": "code",
   "execution_count": 32,
   "metadata": {},
   "outputs": [
    {
     "name": "stdout",
     "output_type": "stream",
     "text": [
      "(494021, 200)\n"
     ]
    }
   ],
   "source": [
    "#Vérifications de la cohérence des données\n",
    "print(df.shape)"
   ]
  },
  {
   "cell_type": "code",
   "execution_count": 33,
   "metadata": {},
   "outputs": [
    {
     "name": "stdout",
     "output_type": "stream",
     "text": [
      "<class 'pandas.core.frame.DataFrame'>\n",
      "RangeIndex: 494021 entries, 0 to 494020\n",
      "Columns: 200 entries, V1 to V200\n",
      "dtypes: float64(15), int64(181), object(4)\n",
      "memory usage: 753.8+ MB\n",
      "None\n"
     ]
    }
   ],
   "source": [
    "#Vérifications de la cohérence des données\n",
    "print(df.info())"
   ]
  },
  {
   "cell_type": "code",
   "execution_count": 34,
   "metadata": {},
   "outputs": [
    {
     "name": "stdout",
     "output_type": "stream",
     "text": [
      "['V160', 'V161', 'V162']\n"
     ]
    }
   ],
   "source": [
    "#Création des dummies variables pour les modalités des variables qualitativves (V160,V161 et V162)\n",
    "\n",
    "#liste des variables qualitatives\n",
    "import numpy\n",
    "lstQuali = [var for var in df.columns[:-1] if df[var].dtype == numpy.object_]\n",
    "print(lstQuali)"
   ]
  },
  {
   "cell_type": "code",
   "execution_count": 35,
   "metadata": {},
   "outputs": [
    {
     "name": "stdout",
     "output_type": "stream",
     "text": [
      "<class 'pandas.core.frame.DataFrame'>\n",
      "RangeIndex: 494021 entries, 0 to 494020\n",
      "Data columns (total 77 columns):\n",
      " #   Column    Non-Null Count   Dtype\n",
      "---  ------    --------------   -----\n",
      " 0   V160_m2   494021 non-null  uint8\n",
      " 1   V160_m3   494021 non-null  uint8\n",
      " 2   V161_m10  494021 non-null  uint8\n",
      " 3   V161_m11  494021 non-null  uint8\n",
      " 4   V161_m12  494021 non-null  uint8\n",
      " 5   V161_m13  494021 non-null  uint8\n",
      " 6   V161_m14  494021 non-null  uint8\n",
      " 7   V161_m15  494021 non-null  uint8\n",
      " 8   V161_m16  494021 non-null  uint8\n",
      " 9   V161_m17  494021 non-null  uint8\n",
      " 10  V161_m18  494021 non-null  uint8\n",
      " 11  V161_m19  494021 non-null  uint8\n",
      " 12  V161_m2   494021 non-null  uint8\n",
      " 13  V161_m20  494021 non-null  uint8\n",
      " 14  V161_m21  494021 non-null  uint8\n",
      " 15  V161_m22  494021 non-null  uint8\n",
      " 16  V161_m23  494021 non-null  uint8\n",
      " 17  V161_m24  494021 non-null  uint8\n",
      " 18  V161_m25  494021 non-null  uint8\n",
      " 19  V161_m26  494021 non-null  uint8\n",
      " 20  V161_m27  494021 non-null  uint8\n",
      " 21  V161_m28  494021 non-null  uint8\n",
      " 22  V161_m29  494021 non-null  uint8\n",
      " 23  V161_m3   494021 non-null  uint8\n",
      " 24  V161_m30  494021 non-null  uint8\n",
      " 25  V161_m31  494021 non-null  uint8\n",
      " 26  V161_m32  494021 non-null  uint8\n",
      " 27  V161_m33  494021 non-null  uint8\n",
      " 28  V161_m34  494021 non-null  uint8\n",
      " 29  V161_m35  494021 non-null  uint8\n",
      " 30  V161_m36  494021 non-null  uint8\n",
      " 31  V161_m37  494021 non-null  uint8\n",
      " 32  V161_m38  494021 non-null  uint8\n",
      " 33  V161_m39  494021 non-null  uint8\n",
      " 34  V161_m4   494021 non-null  uint8\n",
      " 35  V161_m40  494021 non-null  uint8\n",
      " 36  V161_m41  494021 non-null  uint8\n",
      " 37  V161_m42  494021 non-null  uint8\n",
      " 38  V161_m43  494021 non-null  uint8\n",
      " 39  V161_m44  494021 non-null  uint8\n",
      " 40  V161_m45  494021 non-null  uint8\n",
      " 41  V161_m46  494021 non-null  uint8\n",
      " 42  V161_m47  494021 non-null  uint8\n",
      " 43  V161_m48  494021 non-null  uint8\n",
      " 44  V161_m49  494021 non-null  uint8\n",
      " 45  V161_m5   494021 non-null  uint8\n",
      " 46  V161_m50  494021 non-null  uint8\n",
      " 47  V161_m51  494021 non-null  uint8\n",
      " 48  V161_m52  494021 non-null  uint8\n",
      " 49  V161_m53  494021 non-null  uint8\n",
      " 50  V161_m54  494021 non-null  uint8\n",
      " 51  V161_m55  494021 non-null  uint8\n",
      " 52  V161_m56  494021 non-null  uint8\n",
      " 53  V161_m57  494021 non-null  uint8\n",
      " 54  V161_m58  494021 non-null  uint8\n",
      " 55  V161_m59  494021 non-null  uint8\n",
      " 56  V161_m6   494021 non-null  uint8\n",
      " 57  V161_m60  494021 non-null  uint8\n",
      " 58  V161_m61  494021 non-null  uint8\n",
      " 59  V161_m62  494021 non-null  uint8\n",
      " 60  V161_m63  494021 non-null  uint8\n",
      " 61  V161_m64  494021 non-null  uint8\n",
      " 62  V161_m65  494021 non-null  uint8\n",
      " 63  V161_m66  494021 non-null  uint8\n",
      " 64  V161_m7   494021 non-null  uint8\n",
      " 65  V161_m8   494021 non-null  uint8\n",
      " 66  V161_m9   494021 non-null  uint8\n",
      " 67  V162_m10  494021 non-null  uint8\n",
      " 68  V162_m11  494021 non-null  uint8\n",
      " 69  V162_m2   494021 non-null  uint8\n",
      " 70  V162_m3   494021 non-null  uint8\n",
      " 71  V162_m4   494021 non-null  uint8\n",
      " 72  V162_m5   494021 non-null  uint8\n",
      " 73  V162_m6   494021 non-null  uint8\n",
      " 74  V162_m7   494021 non-null  uint8\n",
      " 75  V162_m8   494021 non-null  uint8\n",
      " 76  V162_m9   494021 non-null  uint8\n",
      "dtypes: uint8(77)\n",
      "memory usage: 36.3 MB\n",
      "None\n"
     ]
    }
   ],
   "source": [
    "#Recodage des variables qualitatives\n",
    "dfQualiEncoded = pandas.get_dummies(df[lstQuali],drop_first=True)\n",
    "#Pour l'analyse discriminante on produit M-1 indicatrices avec M le nombre de modalités de la variable\n",
    "#afin d'éviter des problèmes de colinéarité c'est ce que permet le paramètre drop_first = True\n",
    "#C'est-à-dire qu'on ne crée pas d'indicatrice pour la première modalité \n",
    "#Au final on a 77 indicatrices\n",
    "print(dfQualiEncoded.info())"
   ]
  },
  {
   "cell_type": "code",
   "execution_count": 36,
   "metadata": {},
   "outputs": [
    {
     "name": "stdout",
     "output_type": "stream",
     "text": [
      "['V1', 'V2', 'V3', 'V4', 'V5', 'V6', 'V7', 'V8', 'V9', 'V10', 'V11', 'V12', 'V13', 'V14', 'V15', 'V16', 'V17', 'V18', 'V19', 'V20', 'V21', 'V22', 'V23', 'V24', 'V25', 'V26', 'V27', 'V28', 'V29', 'V30', 'V31', 'V32', 'V33', 'V34', 'V35', 'V36', 'V37', 'V38', 'V39', 'V40', 'V41', 'V42', 'V43', 'V44', 'V45', 'V46', 'V47', 'V48', 'V49', 'V50', 'V51', 'V52', 'V53', 'V54', 'V55', 'V56', 'V57', 'V58', 'V59', 'V60', 'V61', 'V62', 'V63', 'V64', 'V65', 'V66', 'V67', 'V68', 'V69', 'V70', 'V71', 'V72', 'V73', 'V74', 'V75', 'V76', 'V77', 'V78', 'V79', 'V80', 'V81', 'V82', 'V83', 'V84', 'V85', 'V86', 'V87', 'V88', 'V89', 'V90', 'V91', 'V92', 'V93', 'V94', 'V95', 'V96', 'V97', 'V98', 'V99', 'V100', 'V101', 'V102', 'V103', 'V104', 'V105', 'V106', 'V107', 'V108', 'V109', 'V110', 'V111', 'V112', 'V113', 'V114', 'V115', 'V116', 'V117', 'V118', 'V119', 'V120', 'V121', 'V122', 'V123', 'V124', 'V125', 'V126', 'V127', 'V128', 'V129', 'V130', 'V131', 'V132', 'V133', 'V134', 'V135', 'V136', 'V137', 'V138', 'V139', 'V140', 'V141', 'V142', 'V143', 'V144', 'V145', 'V146', 'V147', 'V148', 'V149', 'V150', 'V151', 'V152', 'V153', 'V154', 'V155', 'V156', 'V157', 'V158', 'V159', 'V163', 'V164', 'V165', 'V166', 'V167', 'V168', 'V169', 'V170', 'V171', 'V172', 'V173', 'V174', 'V175', 'V176', 'V177', 'V178', 'V179', 'V180', 'V181', 'V182', 'V183', 'V184', 'V185', 'V186', 'V187', 'V188', 'V189', 'V190', 'V191', 'V192', 'V193', 'V194', 'V195', 'V196', 'V197', 'V198', 'V199']\n"
     ]
    }
   ],
   "source": [
    "#liste des variables quantitatives\n",
    "lstQuanti = [var for var in df.columns[:-1] if df[var].dtype != numpy.object_]\n",
    "print(lstQuanti)"
   ]
  },
  {
   "cell_type": "code",
   "execution_count": 37,
   "metadata": {},
   "outputs": [
    {
     "name": "stdout",
     "output_type": "stream",
     "text": [
      "<class 'pandas.core.frame.DataFrame'>\n",
      "RangeIndex: 494021 entries, 0 to 494020\n",
      "Columns: 273 entries, V160_m2 to V199\n",
      "dtypes: float64(15), int64(181), uint8(77)\n",
      "memory usage: 775.0 MB\n",
      "None\n"
     ]
    }
   ],
   "source": [
    "#réunir dummies et quantitatives dans le même data frame\n",
    "dfNew = pandas.concat([dfQualiEncoded,df[lstQuanti]],axis=1)\n",
    "print(dfNew.info())"
   ]
  },
  {
   "cell_type": "code",
   "execution_count": 38,
   "metadata": {},
   "outputs": [
    {
     "name": "stdout",
     "output_type": "stream",
     "text": [
      "<class 'pandas.core.frame.DataFrame'>\n",
      "RangeIndex: 494021 entries, 0 to 494020\n",
      "Columns: 274 entries, V160_m2 to V200\n",
      "dtypes: float64(15), int64(181), object(1), uint8(77)\n",
      "memory usage: 778.8+ MB\n",
      "None\n"
     ]
    }
   ],
   "source": [
    "#rajouter la variable cible\n",
    "dfNew['V200'] = df['V200']\n",
    "print(dfNew.info())\n"
   ]
  },
  {
   "cell_type": "code",
   "execution_count": 39,
   "metadata": {},
   "outputs": [
    {
     "name": "stdout",
     "output_type": "stream",
     "text": [
      "(345815, 274) (148206, 274)\n"
     ]
    }
   ],
   "source": [
    "#Subdivision des données en échantillon test (test) et échantillon d'apprentissage (train)\n",
    "import sklearn\n",
    "from sklearn import model_selection\n",
    " \n",
    "train,test = model_selection.train_test_split(dfNew,test_size = round(dfNew.shape[0]*30/100),random_state=1) \n",
    "#test_size=30% de 494021 \n",
    "#random_state fixé à 1 pour pouvoir reproduire l'approche \n",
    "\n",
    "print(train.shape,test.shape)"
   ]
  },
  {
   "cell_type": "code",
   "execution_count": 40,
   "metadata": {},
   "outputs": [
    {
     "name": "stdout",
     "output_type": "stream",
     "text": [
      "(345815,) (345815, 273)\n",
      "(148206,) (148206, 273)\n"
     ]
    }
   ],
   "source": [
    "#Isole les variables prédictives (x) de la variable cible (y) pour chaque échantillon (test et train)\n",
    "\n",
    "x_train=train.iloc[:,0:dfNew.shape[1]-1]\n",
    "y_train=train.iloc[:,dfNew.shape[1]-1]\n",
    "print(y_train.shape, x_train.shape)\n",
    "\n",
    "x_test=test.iloc[:,0:dfNew.shape[1]-1]\n",
    "y_test=test.iloc[:,dfNew.shape[1]-1]\n",
    "print(y_test.shape, x_test.shape)"
   ]
  },
  {
   "cell_type": "code",
   "execution_count": 41,
   "metadata": {},
   "outputs": [
    {
     "data": {
      "text/plain": [
       "VarianceThreshold()"
      ]
     },
     "execution_count": 41,
     "metadata": {},
     "output_type": "execute_result"
    }
   ],
   "source": [
    "#Première sélection de variables : pour enlever les colonnes de constantes\n",
    "from sklearn.feature_selection import VarianceThreshold\n",
    "selector = VarianceThreshold()\n",
    "selector.fit(x_train)"
   ]
  },
  {
   "cell_type": "code",
   "execution_count": 42,
   "metadata": {},
   "outputs": [
    {
     "name": "stdout",
     "output_type": "stream",
     "text": [
      "Index(['V161_m45', 'V178', 'V179'], dtype='object')\n"
     ]
    }
   ],
   "source": [
    "#Liste des variables constantes\n",
    "print(x_train.columns[selector.variances_ == 0])"
   ]
  },
  {
   "cell_type": "code",
   "execution_count": 43,
   "metadata": {},
   "outputs": [
    {
     "data": {
      "text/plain": [
       "array([ True,  True,  True,  True,  True,  True,  True,  True,  True,\n",
       "        True,  True,  True,  True,  True,  True,  True,  True,  True,\n",
       "        True,  True,  True,  True,  True,  True,  True,  True,  True,\n",
       "        True,  True,  True,  True,  True,  True,  True,  True,  True,\n",
       "        True,  True,  True,  True, False,  True,  True,  True,  True,\n",
       "        True,  True,  True,  True,  True,  True,  True,  True,  True,\n",
       "        True,  True,  True,  True,  True,  True,  True,  True,  True,\n",
       "        True,  True,  True,  True,  True,  True,  True,  True,  True,\n",
       "        True,  True,  True,  True,  True,  True,  True,  True,  True,\n",
       "        True,  True,  True,  True,  True,  True,  True,  True,  True,\n",
       "        True,  True,  True,  True,  True,  True,  True,  True,  True,\n",
       "        True,  True,  True,  True,  True,  True,  True,  True,  True,\n",
       "        True,  True,  True,  True,  True,  True,  True,  True,  True,\n",
       "        True,  True,  True,  True,  True,  True,  True,  True,  True,\n",
       "        True,  True,  True,  True,  True,  True,  True,  True,  True,\n",
       "        True,  True,  True,  True,  True,  True,  True,  True,  True,\n",
       "        True,  True,  True,  True,  True,  True,  True,  True,  True,\n",
       "        True,  True,  True,  True,  True,  True,  True,  True,  True,\n",
       "        True,  True,  True,  True,  True,  True,  True,  True,  True,\n",
       "        True,  True,  True,  True,  True,  True,  True,  True,  True,\n",
       "        True,  True,  True,  True,  True,  True,  True,  True,  True,\n",
       "        True,  True,  True,  True,  True,  True,  True,  True,  True,\n",
       "        True,  True,  True,  True,  True,  True,  True,  True,  True,\n",
       "        True,  True,  True,  True,  True,  True,  True,  True,  True,\n",
       "        True,  True,  True,  True,  True,  True,  True,  True,  True,\n",
       "        True,  True,  True,  True,  True,  True,  True,  True,  True,\n",
       "        True,  True,  True,  True,  True,  True,  True,  True,  True,\n",
       "        True,  True,  True,  True,  True,  True,  True,  True, False,\n",
       "       False,  True,  True,  True,  True,  True,  True,  True,  True,\n",
       "        True,  True,  True,  True,  True,  True,  True,  True,  True,\n",
       "        True,  True,  True])"
      ]
     },
     "execution_count": 43,
     "metadata": {},
     "output_type": "execute_result"
    }
   ],
   "source": [
    "selector.get_support()"
   ]
  },
  {
   "cell_type": "code",
   "execution_count": 44,
   "metadata": {},
   "outputs": [
    {
     "name": "stdout",
     "output_type": "stream",
     "text": [
      "(345815, 270)\n"
     ]
    }
   ],
   "source": [
    "#Réduction de la base d'apprentissage aux variables sélectionnées\n",
    "x_train = x_train.iloc[:,selector.get_support()] \n",
    "print(x_train.shape) # 270 variables restantes\n"
   ]
  },
  {
   "cell_type": "code",
   "execution_count": 45,
   "metadata": {},
   "outputs": [
    {
     "name": "stdout",
     "output_type": "stream",
     "text": [
      "(148206, 270)\n"
     ]
    }
   ],
   "source": [
    "#réduction de la base test aux mêmes variables\n",
    "x_test = x_test.iloc[:,selector.get_support()] \n",
    "print(x_test.shape)\n"
   ]
  },
  {
   "cell_type": "code",
   "execution_count": 46,
   "metadata": {},
   "outputs": [
    {
     "name": "stdout",
     "output_type": "stream",
     "text": [
      "m19    0.568281\n",
      "m10    0.216992\n",
      "m12    0.197134\n",
      "m1     0.004447\n",
      "m18    0.003242\n",
      "m6     0.002487\n",
      "m16    0.002105\n",
      "m22    0.002039\n",
      "m21    0.001917\n",
      "m15    0.000529\n",
      "m11    0.000471\n",
      "m4     0.000098\n",
      "m2     0.000067\n",
      "m23    0.000046\n",
      "m7     0.000038\n",
      "m5     0.000029\n",
      "m8     0.000017\n",
      "m3     0.000014\n",
      "m9     0.000014\n",
      "m17    0.000012\n",
      "m14    0.000009\n",
      "m20    0.000006\n",
      "m13    0.000006\n",
      "Name: V200, dtype: float64\n"
     ]
    }
   ],
   "source": [
    "#distribution des classes\n",
    "print(y_train.value_counts(normalize=True))"
   ]
  },
  {
   "cell_type": "code",
   "execution_count": 47,
   "metadata": {},
   "outputs": [],
   "source": [
    "#Analyse discriminante avec les paramètres initiaux cad solver=’svd’ et shrinkage=None\n",
    "#Importation\n",
    "from sklearn.discriminant_analysis import LinearDiscriminantAnalysis\n",
    "\n",
    "#instanciation\n",
    "lda = LinearDiscriminantAnalysis()"
   ]
  },
  {
   "cell_type": "code",
   "execution_count": 48,
   "metadata": {},
   "outputs": [
    {
     "data": {
      "text/plain": [
       "LinearDiscriminantAnalysis()"
      ]
     },
     "execution_count": 48,
     "metadata": {},
     "output_type": "execute_result"
    }
   ],
   "source": [
    "#apprentissage\n",
    "lda.fit(x_train,y_train)"
   ]
  },
  {
   "cell_type": "code",
   "execution_count": 49,
   "metadata": {},
   "outputs": [
    {
     "name": "stdout",
     "output_type": "stream",
     "text": [
      "(array(['m1', 'm10', 'm11', 'm12', 'm13', 'm14', 'm15', 'm16', 'm18',\n",
      "       'm19', 'm2', 'm20', 'm21', 'm22', 'm23', 'm4', 'm5', 'm6', 'm7',\n",
      "       'm9'], dtype='<U3'), array([  724, 32101,    28, 28787,     1,     8,    82,   259,   507,\n",
      "       84375,     2,     3,   316,   386,     6,    21,    36,   531,\n",
      "          26,     7]))\n"
     ]
    }
   ],
   "source": [
    "#Prediction\n",
    "y_predLA = lda.predict(x_test)\n",
    "print(numpy.unique(y_predLA,return_counts=True))\n"
   ]
  },
  {
   "cell_type": "code",
   "execution_count": 50,
   "metadata": {},
   "outputs": [
    {
     "name": "stdout",
     "output_type": "stream",
     "text": [
      "[[  647     0     0     4     0     0     0    14     0     0     0     0\n",
      "      0     0     0     0     0     0     0     0     0     0     0]\n",
      " [    0 32074     0    27     0     0     0     0     0    19     0     0\n",
      "      0     0     0     0     0     0    34     0     8     0     0]\n",
      " [    0     0    28     8     0     0     0     0     0     0     0     0\n",
      "      0     0     0     0     0     0     0    32     0     0     0]\n",
      " [   76    11     0 28678     0     5     1     3     0     5   104     0\n",
      "      3     0    85     2     0     1     0   114    11     0     7]\n",
      " [    0     0     0     0     1     0     0     0     0     0     0     0\n",
      "      0     0     0     0     0     0     0     0     0     0     0]\n",
      " [    0     0     0     0     0     1     0     0     0     0     0     0\n",
      "      0     0     0     0     0     0     0     0     0     0     0]\n",
      " [    0     0     0     0     0     0    81     0     0     0     0     0\n",
      "      0     0     0     0     0     0     0     0     0     0     0]\n",
      " [    0    13     0     0     0     0     0   242     0    56     0     0\n",
      "      0     0     1     0     0     0     0     0     0     0     0]\n",
      " [    0     0     0     5     0     0     0     0     0     0     0     0\n",
      "      0     0     0     0     0     1     0     0     0     0     0]\n",
      " [    0     2     0    38     0     0     0     0     0   426     0     0\n",
      "      0     0     0     0     0     0     0     2     0     0     0]\n",
      " [    0     0     0     0     0     0     0     0     0     0 84270     0\n",
      "      0     0     0     0     0     0     0     0     0     0     0]\n",
      " [    0     1     0     0     0     2     0     0     0     0     0     2\n",
      "      0     0     2     0     0     0     0     0     0     0     0]\n",
      " [    0     0     0     0     0     0     0     0     0     0     0     0\n",
      "      0     0     0     0     0     0     0     0     0     0     0]\n",
      " [    0     0     0     0     0     0     0     0     0     0     0     0\n",
      "      0   316     0     0     0     0     0     0     0     0     0]\n",
      " [    0     0     0    19     0     0     0     0     0     0     0     0\n",
      "      0     0   295     0     0     0     0     0     1     0     0]\n",
      " [    0     0     0     0     0     0     0     0     0     0     0     0\n",
      "      0     0     0     4     0     0     0     0     0     0     0]\n",
      " [    0     0     0     1     0     0     0     0     0     0     0     0\n",
      "      0     0     2     0     0     0     0     0     0     0     0]\n",
      " [    0     0     0     0     0     0     0     0     0     0     0     0\n",
      "      0     0     0     0     0    19     0     0     0     0     0]\n",
      " [    0     0     0     0     0     0     0     0     0     0     0     0\n",
      "      0     0     0     0     0     0     2     0     0     0     0]\n",
      " [    0     0     0     2     0     0     0     0     0     1     1     0\n",
      "      0     0     0     0     0     0     0   383     0     0     0]\n",
      " [    1     0     0     1     0     0     0     0     0     0     0     0\n",
      "      0     0     0     0     0     0     0     0     6     0     0]\n",
      " [    0     0     0     2     0     0     0     0     0     0     0     0\n",
      "      0     0     1     0     0     0     0     0     0     0     0]\n",
      " [    0     0     0     2     0     0     0     0     0     0     0     0\n",
      "      0     0     0     0     0     0     0     0     0     0     0]]\n"
     ]
    }
   ],
   "source": [
    "#Matrice de confusion\n",
    "from sklearn import metrics\n",
    "cm = metrics.confusion_matrix(y_test,y_predLA)\n",
    "print(cm)\n"
   ]
  },
  {
   "cell_type": "code",
   "execution_count": 51,
   "metadata": {},
   "outputs": [
    {
     "name": "stdout",
     "output_type": "stream",
     "text": [
      "0.9950676760724937\n",
      "0.00493232392750631\n"
     ]
    }
   ],
   "source": [
    "#Mesures de performance\n",
    "acc = metrics.accuracy_score(y_test,y_predLA)\n",
    "#Succes\n",
    "print(acc) \n",
    "err = 1.0 - acc\n",
    "#Taux d'erreur\n",
    "print(err)\n"
   ]
  },
  {
   "cell_type": "code",
   "execution_count": 52,
   "metadata": {},
   "outputs": [
    {
     "name": "stdout",
     "output_type": "stream",
     "text": [
      "[0.97293233 0.99726385 0.41176471 0.98529513 1.         1.\n",
      " 1.         0.77564103 0.         0.91025641 1.         0.28571429\n",
      " 0.         1.         0.93650794 1.         0.         1.\n",
      " 1.         0.98966408 0.75       0.         0.        ]\n"
     ]
    },
    {
     "name": "stderr",
     "output_type": "stream",
     "text": [
      "/Users/learegazzetti/opt/anaconda3/lib/python3.8/site-packages/sklearn/metrics/_classification.py:1221: UndefinedMetricWarning: Recall is ill-defined and being set to 0.0 in labels with no true samples. Use `zero_division` parameter to control this behavior.\n",
      "  _warn_prf(average, modifier, msg_start, len(result))\n"
     ]
    }
   ],
   "source": [
    "#Sensibilité/Précision pour chaque modalité de la variable à prédire\n",
    "se = metrics.recall_score(y_test,y_predLA,average=None)\n",
    "print(se)"
   ]
  },
  {
   "cell_type": "code",
   "execution_count": 23,
   "metadata": {
    "scrolled": true
   },
   "outputs": [
    {
     "name": "stderr",
     "output_type": "stream",
     "text": [
      "/Users/learegazzetti/opt/anaconda3/lib/python3.8/site-packages/sklearn/model_selection/_split.py:670: UserWarning: The least populated class in y has only 2 members, which is less than n_splits=5.\n",
      "  warnings.warn((\"The least populated class in y has only %d\"\n",
      "/Users/learegazzetti/opt/anaconda3/lib/python3.8/site-packages/sklearn/covariance/_empirical_covariance.py:88: UserWarning: Only one sample available. You may want to reshape your data array\n",
      "  warnings.warn(\"Only one sample available. \"\n",
      "/Users/learegazzetti/opt/anaconda3/lib/python3.8/site-packages/sklearn/covariance/_empirical_covariance.py:88: UserWarning: Only one sample available. You may want to reshape your data array\n",
      "  warnings.warn(\"Only one sample available. \"\n",
      "/Users/learegazzetti/opt/anaconda3/lib/python3.8/site-packages/sklearn/covariance/_empirical_covariance.py:88: UserWarning: Only one sample available. You may want to reshape your data array\n",
      "  warnings.warn(\"Only one sample available. \"\n",
      "/Users/learegazzetti/opt/anaconda3/lib/python3.8/site-packages/sklearn/covariance/_empirical_covariance.py:88: UserWarning: Only one sample available. You may want to reshape your data array\n",
      "  warnings.warn(\"Only one sample available. \"\n",
      "/Users/learegazzetti/opt/anaconda3/lib/python3.8/site-packages/sklearn/covariance/_empirical_covariance.py:88: UserWarning: Only one sample available. You may want to reshape your data array\n",
      "  warnings.warn(\"Only one sample available. \"\n",
      "/Users/learegazzetti/opt/anaconda3/lib/python3.8/site-packages/sklearn/model_selection/_validation.py:548: FitFailedWarning: Estimator fit failed. The score on this train-test partition for these parameters will be set to nan. Details: \n",
      "Traceback (most recent call last):\n",
      "  File \"/Users/learegazzetti/opt/anaconda3/lib/python3.8/site-packages/sklearn/model_selection/_validation.py\", line 531, in _fit_and_score\n",
      "    estimator.fit(X_train, y_train, **fit_params)\n",
      "  File \"/Users/learegazzetti/opt/anaconda3/lib/python3.8/site-packages/sklearn/discriminant_analysis.py\", line 468, in fit\n",
      "    self._solve_eigen(X, y, shrinkage=self.shrinkage)\n",
      "  File \"/Users/learegazzetti/opt/anaconda3/lib/python3.8/site-packages/sklearn/discriminant_analysis.py\", line 335, in _solve_eigen\n",
      "    evals, evecs = linalg.eigh(Sb, Sw)\n",
      "  File \"/Users/learegazzetti/opt/anaconda3/lib/python3.8/site-packages/scipy/linalg/decomp.py\", line 578, in eigh\n",
      "    raise LinAlgError('The leading minor of order {} of B is not '\n",
      "numpy.linalg.LinAlgError: The leading minor of order 41 of B is not positive definite. The factorization of B could not be completed and no eigenvalues or eigenvectors were computed.\n",
      "\n",
      "  warnings.warn(\"Estimator fit failed. The score on this train-test\"\n",
      "/Users/learegazzetti/opt/anaconda3/lib/python3.8/site-packages/sklearn/model_selection/_validation.py:548: FitFailedWarning: Estimator fit failed. The score on this train-test partition for these parameters will be set to nan. Details: \n",
      "Traceback (most recent call last):\n",
      "  File \"/Users/learegazzetti/opt/anaconda3/lib/python3.8/site-packages/sklearn/model_selection/_validation.py\", line 531, in _fit_and_score\n",
      "    estimator.fit(X_train, y_train, **fit_params)\n",
      "  File \"/Users/learegazzetti/opt/anaconda3/lib/python3.8/site-packages/sklearn/discriminant_analysis.py\", line 468, in fit\n",
      "    self._solve_eigen(X, y, shrinkage=self.shrinkage)\n",
      "  File \"/Users/learegazzetti/opt/anaconda3/lib/python3.8/site-packages/sklearn/discriminant_analysis.py\", line 335, in _solve_eigen\n",
      "    evals, evecs = linalg.eigh(Sb, Sw)\n",
      "  File \"/Users/learegazzetti/opt/anaconda3/lib/python3.8/site-packages/scipy/linalg/decomp.py\", line 578, in eigh\n",
      "    raise LinAlgError('The leading minor of order {} of B is not '\n",
      "numpy.linalg.LinAlgError: The leading minor of order 41 of B is not positive definite. The factorization of B could not be completed and no eigenvalues or eigenvectors were computed.\n",
      "\n",
      "  warnings.warn(\"Estimator fit failed. The score on this train-test\"\n",
      "/Users/learegazzetti/opt/anaconda3/lib/python3.8/site-packages/sklearn/covariance/_empirical_covariance.py:88: UserWarning: Only one sample available. You may want to reshape your data array\n",
      "  warnings.warn(\"Only one sample available. \"\n",
      "/Users/learegazzetti/opt/anaconda3/lib/python3.8/site-packages/sklearn/model_selection/_validation.py:548: FitFailedWarning: Estimator fit failed. The score on this train-test partition for these parameters will be set to nan. Details: \n",
      "Traceback (most recent call last):\n",
      "  File \"/Users/learegazzetti/opt/anaconda3/lib/python3.8/site-packages/sklearn/model_selection/_validation.py\", line 531, in _fit_and_score\n",
      "    estimator.fit(X_train, y_train, **fit_params)\n",
      "  File \"/Users/learegazzetti/opt/anaconda3/lib/python3.8/site-packages/sklearn/discriminant_analysis.py\", line 468, in fit\n",
      "    self._solve_eigen(X, y, shrinkage=self.shrinkage)\n",
      "  File \"/Users/learegazzetti/opt/anaconda3/lib/python3.8/site-packages/sklearn/discriminant_analysis.py\", line 335, in _solve_eigen\n",
      "    evals, evecs = linalg.eigh(Sb, Sw)\n",
      "  File \"/Users/learegazzetti/opt/anaconda3/lib/python3.8/site-packages/scipy/linalg/decomp.py\", line 578, in eigh\n",
      "    raise LinAlgError('The leading minor of order {} of B is not '\n",
      "numpy.linalg.LinAlgError: The leading minor of order 41 of B is not positive definite. The factorization of B could not be completed and no eigenvalues or eigenvectors were computed.\n",
      "\n",
      "  warnings.warn(\"Estimator fit failed. The score on this train-test\"\n",
      "/Users/learegazzetti/opt/anaconda3/lib/python3.8/site-packages/sklearn/covariance/_empirical_covariance.py:88: UserWarning: Only one sample available. You may want to reshape your data array\n",
      "  warnings.warn(\"Only one sample available. \"\n",
      "/Users/learegazzetti/opt/anaconda3/lib/python3.8/site-packages/sklearn/model_selection/_validation.py:548: FitFailedWarning: Estimator fit failed. The score on this train-test partition for these parameters will be set to nan. Details: \n",
      "Traceback (most recent call last):\n",
      "  File \"/Users/learegazzetti/opt/anaconda3/lib/python3.8/site-packages/sklearn/model_selection/_validation.py\", line 531, in _fit_and_score\n",
      "    estimator.fit(X_train, y_train, **fit_params)\n",
      "  File \"/Users/learegazzetti/opt/anaconda3/lib/python3.8/site-packages/sklearn/discriminant_analysis.py\", line 468, in fit\n",
      "    self._solve_eigen(X, y, shrinkage=self.shrinkage)\n",
      "  File \"/Users/learegazzetti/opt/anaconda3/lib/python3.8/site-packages/sklearn/discriminant_analysis.py\", line 335, in _solve_eigen\n",
      "    evals, evecs = linalg.eigh(Sb, Sw)\n",
      "  File \"/Users/learegazzetti/opt/anaconda3/lib/python3.8/site-packages/scipy/linalg/decomp.py\", line 578, in eigh\n",
      "    raise LinAlgError('The leading minor of order {} of B is not '\n",
      "numpy.linalg.LinAlgError: The leading minor of order 36 of B is not positive definite. The factorization of B could not be completed and no eigenvalues or eigenvectors were computed.\n",
      "\n",
      "  warnings.warn(\"Estimator fit failed. The score on this train-test\"\n",
      "/Users/learegazzetti/opt/anaconda3/lib/python3.8/site-packages/sklearn/covariance/_empirical_covariance.py:88: UserWarning: Only one sample available. You may want to reshape your data array\n",
      "  warnings.warn(\"Only one sample available. \"\n",
      "/Users/learegazzetti/opt/anaconda3/lib/python3.8/site-packages/sklearn/model_selection/_validation.py:548: FitFailedWarning: Estimator fit failed. The score on this train-test partition for these parameters will be set to nan. Details: \n",
      "Traceback (most recent call last):\n",
      "  File \"/Users/learegazzetti/opt/anaconda3/lib/python3.8/site-packages/sklearn/model_selection/_validation.py\", line 531, in _fit_and_score\n",
      "    estimator.fit(X_train, y_train, **fit_params)\n",
      "  File \"/Users/learegazzetti/opt/anaconda3/lib/python3.8/site-packages/sklearn/discriminant_analysis.py\", line 468, in fit\n",
      "    self._solve_eigen(X, y, shrinkage=self.shrinkage)\n",
      "  File \"/Users/learegazzetti/opt/anaconda3/lib/python3.8/site-packages/sklearn/discriminant_analysis.py\", line 335, in _solve_eigen\n",
      "    evals, evecs = linalg.eigh(Sb, Sw)\n",
      "  File \"/Users/learegazzetti/opt/anaconda3/lib/python3.8/site-packages/scipy/linalg/decomp.py\", line 578, in eigh\n",
      "    raise LinAlgError('The leading minor of order {} of B is not '\n",
      "numpy.linalg.LinAlgError: The leading minor of order 41 of B is not positive definite. The factorization of B could not be completed and no eigenvalues or eigenvectors were computed.\n",
      "\n",
      "  warnings.warn(\"Estimator fit failed. The score on this train-test\"\n"
     ]
    },
    {
     "name": "stderr",
     "output_type": "stream",
     "text": [
      "/Users/learegazzetti/opt/anaconda3/lib/python3.8/site-packages/sklearn/model_selection/_validation.py:548: FitFailedWarning: Estimator fit failed. The score on this train-test partition for these parameters will be set to nan. Details: \n",
      "Traceback (most recent call last):\n",
      "  File \"/Users/learegazzetti/opt/anaconda3/lib/python3.8/site-packages/sklearn/model_selection/_validation.py\", line 531, in _fit_and_score\n",
      "    estimator.fit(X_train, y_train, **fit_params)\n",
      "  File \"/Users/learegazzetti/opt/anaconda3/lib/python3.8/site-packages/sklearn/discriminant_analysis.py\", line 463, in fit\n",
      "    raise NotImplementedError('shrinkage not supported')\n",
      "NotImplementedError: shrinkage not supported\n",
      "\n",
      "  warnings.warn(\"Estimator fit failed. The score on this train-test\"\n",
      "/Users/learegazzetti/opt/anaconda3/lib/python3.8/site-packages/sklearn/model_selection/_validation.py:548: FitFailedWarning: Estimator fit failed. The score on this train-test partition for these parameters will be set to nan. Details: \n",
      "Traceback (most recent call last):\n",
      "  File \"/Users/learegazzetti/opt/anaconda3/lib/python3.8/site-packages/sklearn/model_selection/_validation.py\", line 531, in _fit_and_score\n",
      "    estimator.fit(X_train, y_train, **fit_params)\n",
      "  File \"/Users/learegazzetti/opt/anaconda3/lib/python3.8/site-packages/sklearn/discriminant_analysis.py\", line 463, in fit\n",
      "    raise NotImplementedError('shrinkage not supported')\n",
      "NotImplementedError: shrinkage not supported\n",
      "\n",
      "  warnings.warn(\"Estimator fit failed. The score on this train-test\"\n",
      "/Users/learegazzetti/opt/anaconda3/lib/python3.8/site-packages/sklearn/model_selection/_validation.py:548: FitFailedWarning: Estimator fit failed. The score on this train-test partition for these parameters will be set to nan. Details: \n",
      "Traceback (most recent call last):\n",
      "  File \"/Users/learegazzetti/opt/anaconda3/lib/python3.8/site-packages/sklearn/model_selection/_validation.py\", line 531, in _fit_and_score\n",
      "    estimator.fit(X_train, y_train, **fit_params)\n",
      "  File \"/Users/learegazzetti/opt/anaconda3/lib/python3.8/site-packages/sklearn/discriminant_analysis.py\", line 463, in fit\n",
      "    raise NotImplementedError('shrinkage not supported')\n",
      "NotImplementedError: shrinkage not supported\n",
      "\n",
      "  warnings.warn(\"Estimator fit failed. The score on this train-test\"\n",
      "/Users/learegazzetti/opt/anaconda3/lib/python3.8/site-packages/sklearn/model_selection/_validation.py:548: FitFailedWarning: Estimator fit failed. The score on this train-test partition for these parameters will be set to nan. Details: \n",
      "Traceback (most recent call last):\n",
      "  File \"/Users/learegazzetti/opt/anaconda3/lib/python3.8/site-packages/sklearn/model_selection/_validation.py\", line 531, in _fit_and_score\n",
      "    estimator.fit(X_train, y_train, **fit_params)\n",
      "  File \"/Users/learegazzetti/opt/anaconda3/lib/python3.8/site-packages/sklearn/discriminant_analysis.py\", line 463, in fit\n",
      "    raise NotImplementedError('shrinkage not supported')\n",
      "NotImplementedError: shrinkage not supported\n",
      "\n",
      "  warnings.warn(\"Estimator fit failed. The score on this train-test\"\n",
      "/Users/learegazzetti/opt/anaconda3/lib/python3.8/site-packages/sklearn/model_selection/_validation.py:548: FitFailedWarning: Estimator fit failed. The score on this train-test partition for these parameters will be set to nan. Details: \n",
      "Traceback (most recent call last):\n",
      "  File \"/Users/learegazzetti/opt/anaconda3/lib/python3.8/site-packages/sklearn/model_selection/_validation.py\", line 531, in _fit_and_score\n",
      "    estimator.fit(X_train, y_train, **fit_params)\n",
      "  File \"/Users/learegazzetti/opt/anaconda3/lib/python3.8/site-packages/sklearn/discriminant_analysis.py\", line 463, in fit\n",
      "    raise NotImplementedError('shrinkage not supported')\n",
      "NotImplementedError: shrinkage not supported\n",
      "\n",
      "  warnings.warn(\"Estimator fit failed. The score on this train-test\"\n",
      "/Users/learegazzetti/opt/anaconda3/lib/python3.8/site-packages/sklearn/covariance/_shrunk_covariance.py:203: UserWarning: Only one sample available. You may want to reshape your data array\n",
      "  warnings.warn(\"Only one sample available. \"\n",
      "/Users/learegazzetti/opt/anaconda3/lib/python3.8/site-packages/sklearn/covariance/_empirical_covariance.py:88: UserWarning: Only one sample available. You may want to reshape your data array\n",
      "  warnings.warn(\"Only one sample available. \"\n",
      "/Users/learegazzetti/opt/anaconda3/lib/python3.8/site-packages/sklearn/covariance/_shrunk_covariance.py:203: UserWarning: Only one sample available. You may want to reshape your data array\n",
      "  warnings.warn(\"Only one sample available. \"\n",
      "/Users/learegazzetti/opt/anaconda3/lib/python3.8/site-packages/sklearn/covariance/_empirical_covariance.py:88: UserWarning: Only one sample available. You may want to reshape your data array\n",
      "  warnings.warn(\"Only one sample available. \"\n",
      "/Users/learegazzetti/opt/anaconda3/lib/python3.8/site-packages/sklearn/covariance/_shrunk_covariance.py:203: UserWarning: Only one sample available. You may want to reshape your data array\n",
      "  warnings.warn(\"Only one sample available. \"\n",
      "/Users/learegazzetti/opt/anaconda3/lib/python3.8/site-packages/sklearn/covariance/_empirical_covariance.py:88: UserWarning: Only one sample available. You may want to reshape your data array\n",
      "  warnings.warn(\"Only one sample available. \"\n",
      "/Users/learegazzetti/opt/anaconda3/lib/python3.8/site-packages/sklearn/covariance/_shrunk_covariance.py:203: UserWarning: Only one sample available. You may want to reshape your data array\n",
      "  warnings.warn(\"Only one sample available. \"\n",
      "/Users/learegazzetti/opt/anaconda3/lib/python3.8/site-packages/sklearn/covariance/_empirical_covariance.py:88: UserWarning: Only one sample available. You may want to reshape your data array\n",
      "  warnings.warn(\"Only one sample available. \"\n",
      "/Users/learegazzetti/opt/anaconda3/lib/python3.8/site-packages/sklearn/covariance/_shrunk_covariance.py:203: UserWarning: Only one sample available. You may want to reshape your data array\n",
      "  warnings.warn(\"Only one sample available. \"\n",
      "/Users/learegazzetti/opt/anaconda3/lib/python3.8/site-packages/sklearn/covariance/_empirical_covariance.py:88: UserWarning: Only one sample available. You may want to reshape your data array\n",
      "  warnings.warn(\"Only one sample available. \"\n",
      "/Users/learegazzetti/opt/anaconda3/lib/python3.8/site-packages/sklearn/covariance/_shrunk_covariance.py:203: UserWarning: Only one sample available. You may want to reshape your data array\n",
      "  warnings.warn(\"Only one sample available. \"\n",
      "/Users/learegazzetti/opt/anaconda3/lib/python3.8/site-packages/sklearn/covariance/_empirical_covariance.py:88: UserWarning: Only one sample available. You may want to reshape your data array\n",
      "  warnings.warn(\"Only one sample available. \"\n",
      "/Users/learegazzetti/opt/anaconda3/lib/python3.8/site-packages/sklearn/covariance/_shrunk_covariance.py:203: UserWarning: Only one sample available. You may want to reshape your data array\n",
      "  warnings.warn(\"Only one sample available. \"\n",
      "/Users/learegazzetti/opt/anaconda3/lib/python3.8/site-packages/sklearn/covariance/_empirical_covariance.py:88: UserWarning: Only one sample available. You may want to reshape your data array\n",
      "  warnings.warn(\"Only one sample available. \"\n",
      "/Users/learegazzetti/opt/anaconda3/lib/python3.8/site-packages/sklearn/covariance/_shrunk_covariance.py:203: UserWarning: Only one sample available. You may want to reshape your data array\n",
      "  warnings.warn(\"Only one sample available. \"\n",
      "/Users/learegazzetti/opt/anaconda3/lib/python3.8/site-packages/sklearn/covariance/_empirical_covariance.py:88: UserWarning: Only one sample available. You may want to reshape your data array\n",
      "  warnings.warn(\"Only one sample available. \"\n"
     ]
    },
    {
     "name": "stdout",
     "output_type": "stream",
     "text": [
      "                                     params  mean_test_score\n",
      "0      {'shrinkage': None, 'solver': 'svd'}         0.994864\n",
      "1     {'shrinkage': None, 'solver': 'lsqr'}         0.990087\n",
      "2    {'shrinkage': None, 'solver': 'eigen'}              NaN\n",
      "3    {'shrinkage': 'auto', 'solver': 'svd'}              NaN\n",
      "4   {'shrinkage': 'auto', 'solver': 'lsqr'}         0.994014\n",
      "5  {'shrinkage': 'auto', 'solver': 'eigen'}         0.994011\n",
      "{'shrinkage': None, 'solver': 'svd'}\n",
      "0.9948643060595984\n",
      "0.9950676760724937\n"
     ]
    }
   ],
   "source": [
    "#Determination des meilleurs parametres\n",
    "#import de la classe\n",
    "from sklearn.model_selection import GridSearchCV\n",
    "\n",
    "#instanciation\n",
    "adl = LinearDiscriminantAnalysis()\n",
    "\n",
    "#combinaisons de paramètres à évaluer\n",
    "parametres = [{'solver':['svd', 'lsqr', 'eigen'],'shrinkage':[None,'auto']}]\n",
    "\n",
    "grid=GridSearchCV(estimator=adl,param_grid=parametres,scoring='accuracy')\n",
    "grille = grid.fit(x_train,y_train)\n",
    "\n",
    "#résultat pour chaque combinaison\n",
    "print(pandas.DataFrame.from_dict(grille.cv_results_).loc[:,[\"params\",\"mean_test_score\"]])\n",
    "\n",
    "#meilleur paramétrage\n",
    "print(grille.best_params_) \n",
    "\n",
    "#meilleur performance – estimée en interne par validation croisée\n",
    "print(grille.best_score_) #0.9948 pour solver='svd' et shrinkage= None donc l'initial\n",
    "#D'après la doc : Note that shrinkage works only with ‘lsqr’ and ‘eigen’ solvers.\n",
    "\n",
    "#prédiction avec le meilleur modèle\n",
    "y_pred3 = grille.predict(x_test)\n",
    "\n",
    "#succès en test\n",
    "print(metrics.accuracy_score(y_test,y_pred3)) #0.9950676760724937"
   ]
  },
  {
   "cell_type": "code",
   "execution_count": 24,
   "metadata": {},
   "outputs": [],
   "source": [
    "#Analyse discriminante avec les paramètres optimaux\n",
    "#Importation\n",
    "from sklearn.discriminant_analysis import LinearDiscriminantAnalysis\n",
    "\n",
    "#instanciation\n",
    "lda = LinearDiscriminantAnalysis(solver='svd', shrinkage=None, store_covariance=True)\n"
   ]
  },
  {
   "cell_type": "code",
   "execution_count": 25,
   "metadata": {},
   "outputs": [
    {
     "data": {
      "text/plain": [
       "LinearDiscriminantAnalysis(store_covariance=True)"
      ]
     },
     "execution_count": 25,
     "metadata": {},
     "output_type": "execute_result"
    }
   ],
   "source": [
    "#apprentissage\n",
    "lda.fit(x_train,y_train)"
   ]
  },
  {
   "cell_type": "code",
   "execution_count": 26,
   "metadata": {},
   "outputs": [
    {
     "name": "stdout",
     "output_type": "stream",
     "text": [
      "                  m1         m10         m11         m12         m13  \\\n",
      "V160_m2   -39.926022  110.742884   -5.923351  -23.818424   46.298962   \n",
      "V160_m3    62.738799 -104.296706   -0.961527   46.101797  -27.884611   \n",
      "V161_m10  -62.171083  187.181387   -2.158017  -61.380855   60.401109   \n",
      "V161_m11  -40.214160  103.368153  695.415603  -47.514873  -10.244703   \n",
      "V161_m12 -850.965391 -752.439914 -837.104908 -845.421229 -801.943779   \n",
      "...              ...         ...         ...         ...         ...   \n",
      "V195      -11.952645 -310.921898  333.610805   11.758769 -208.625136   \n",
      "V196      -43.732123  107.824325   17.606087  -19.470314  -55.321027   \n",
      "V197       30.391110 -102.898823    5.677932   21.537548 -136.714434   \n",
      "V198       25.289536   44.561160  -29.258373   -2.765195  401.822418   \n",
      "V199      -47.102995   80.411083  -63.305654  -39.832450 -235.262904   \n",
      "\n",
      "                 m14         m15         m16         m17         m18  ...  \\\n",
      "V160_m2   -53.272343  -76.772048  172.336538    5.935896   96.692908  ...   \n",
      "V160_m3    77.864553   57.030886 -166.188720   17.422869  -93.455710  ...   \n",
      "V161_m10  -97.745914   -7.741332  224.491338  -11.193865  118.352611  ...   \n",
      "V161_m11  -52.717879   81.911741   88.698944  -77.530737  156.942356  ...   \n",
      "V161_m12 -838.322522  695.865563 -836.476190 -866.144503 -705.186241  ...   \n",
      "...              ...         ...         ...         ...         ...  ...   \n",
      "V195      -80.397042  507.216915 -325.001300  -83.195912 -181.737048  ...   \n",
      "V196      -13.944862  164.487490   -9.394516 -169.583140  117.723208  ...   \n",
      "V197       66.518131 -137.909585    4.782043  536.785257  -79.564657  ...   \n",
      "V198      -47.936899    3.396677 -115.516083  196.929907   38.677082  ...   \n",
      "V199      -11.511041 -108.917027  273.553033  -70.514660   35.520893  ...   \n",
      "\n",
      "                 m21         m22          m23           m3          m4  \\\n",
      "V160_m2   -99.962225  -33.024074    38.528093   111.576501   20.946562   \n",
      "V160_m3   118.086700   56.597570     1.472047   -91.997823    0.192043   \n",
      "V161_m10    8.678813  -56.503366  -249.846754    23.581873 -238.144532   \n",
      "V161_m11   10.203913  -92.423553  -330.624688  -127.849645  -61.306104   \n",
      "V161_m12 -859.549716 -938.637283 -1158.831929 -1020.031289 -979.289339   \n",
      "...              ...         ...          ...          ...         ...   \n",
      "V195      -80.944693  204.614025   -18.009045   179.279411 -406.329145   \n",
      "V196     -232.444057   51.631131    33.224130    37.945961   71.656798   \n",
      "V197       86.515223  -29.991979  -661.268314    65.598008  329.773685   \n",
      "V198      275.567921   -3.945074   -51.177201   -60.177406   79.131427   \n",
      "V199     -181.467040  -68.140335   -64.666445   -65.527283  126.859546   \n",
      "\n",
      "                   m5           m6           m7          m8           m9  \n",
      "V160_m2    201.941305    -8.068902   -78.710027   80.772107    94.755859  \n",
      "V160_m3   -191.191574   -15.387720    90.910832  -60.178350   -65.393650  \n",
      "V161_m10   107.662726    72.106732    56.950729   45.849096   -55.455269  \n",
      "V161_m11    82.840173   948.936097    55.618812 -116.081378  -223.341153  \n",
      "V161_m12 -1074.993360  -675.132766  -802.961031 -978.217402 -1068.068145  \n",
      "...               ...          ...          ...         ...          ...  \n",
      "V195       -59.858114  1222.181845   583.755550  324.255271  -111.776758  \n",
      "V196      -122.540155    28.453590  1077.666549  -61.181247   -81.784368  \n",
      "V197       395.797956   -73.943145 -3831.183658 -106.928356    13.361812  \n",
      "V198        60.039083   -42.909409    32.906968  -30.803124   -22.032795  \n",
      "V199      -113.006744  -162.594723  -108.454360  -85.566647   -45.981277  \n",
      "\n",
      "[270 rows x 23 columns]\n",
      "[ 2.49997724e+02  3.72008660e+02 -1.06209040e+03  2.39415973e+02\n",
      " -1.13133199e+04 -8.27432409e+03 -5.32346901e+03  9.19449542e+02\n",
      " -3.03873448e+03  6.58413986e+01 -9.05799680e+02 -3.18063119e+03\n",
      " -8.18514949e+03 -4.21430158e+04 -3.71977340e+01 -1.46718633e+04\n",
      " -5.77427598e+03 -5.73810566e+03 -3.53479189e+03 -8.19924782e+02\n",
      " -1.20969401e+03 -3.64606098e+03 -2.91517689e+03]\n"
     ]
    }
   ],
   "source": [
    "#affichage des coefficients\n",
    "tmp= pandas.DataFrame(lda.coef_.transpose(),columns=lda.classes_,index=x_train.columns)\n",
    "print(tmp)\n",
    "#et les constantes pour chaque classe\n",
    "print(lda.intercept_)"
   ]
  },
  {
   "cell_type": "code",
   "execution_count": 27,
   "metadata": {},
   "outputs": [
    {
     "name": "stdout",
     "output_type": "stream",
     "text": [
      "['m19' 'm19' 'm10' ... 'm1' 'm19' 'm12']\n"
     ]
    }
   ],
   "source": [
    "#Prediction\n",
    "y_predLA = lda.predict(x_test)\n",
    "print(y_predLA)\n"
   ]
  },
  {
   "cell_type": "code",
   "execution_count": 28,
   "metadata": {},
   "outputs": [
    {
     "name": "stdout",
     "output_type": "stream",
     "text": [
      "[[  647     0     0     4     0     0     0    14     0     0     0     0\n",
      "      0     0     0     0     0     0     0     0     0     0     0]\n",
      " [    0 32074     0    27     0     0     0     0     0    19     0     0\n",
      "      0     0     0     0     0     0    34     0     8     0     0]\n",
      " [    0     0    28     8     0     0     0     0     0     0     0     0\n",
      "      0     0     0     0     0     0     0    32     0     0     0]\n",
      " [   76    11     0 28678     0     5     1     3     0     5   104     0\n",
      "      3     0    85     2     0     1     0   114    11     0     7]\n",
      " [    0     0     0     0     1     0     0     0     0     0     0     0\n",
      "      0     0     0     0     0     0     0     0     0     0     0]\n",
      " [    0     0     0     0     0     1     0     0     0     0     0     0\n",
      "      0     0     0     0     0     0     0     0     0     0     0]\n",
      " [    0     0     0     0     0     0    81     0     0     0     0     0\n",
      "      0     0     0     0     0     0     0     0     0     0     0]\n",
      " [    0    13     0     0     0     0     0   242     0    56     0     0\n",
      "      0     0     1     0     0     0     0     0     0     0     0]\n",
      " [    0     0     0     5     0     0     0     0     0     0     0     0\n",
      "      0     0     0     0     0     1     0     0     0     0     0]\n",
      " [    0     2     0    38     0     0     0     0     0   426     0     0\n",
      "      0     0     0     0     0     0     0     2     0     0     0]\n",
      " [    0     0     0     0     0     0     0     0     0     0 84270     0\n",
      "      0     0     0     0     0     0     0     0     0     0     0]\n",
      " [    0     1     0     0     0     2     0     0     0     0     0     2\n",
      "      0     0     2     0     0     0     0     0     0     0     0]\n",
      " [    0     0     0     0     0     0     0     0     0     0     0     0\n",
      "      0     0     0     0     0     0     0     0     0     0     0]\n",
      " [    0     0     0     0     0     0     0     0     0     0     0     0\n",
      "      0   316     0     0     0     0     0     0     0     0     0]\n",
      " [    0     0     0    19     0     0     0     0     0     0     0     0\n",
      "      0     0   295     0     0     0     0     0     1     0     0]\n",
      " [    0     0     0     0     0     0     0     0     0     0     0     0\n",
      "      0     0     0     4     0     0     0     0     0     0     0]\n",
      " [    0     0     0     1     0     0     0     0     0     0     0     0\n",
      "      0     0     2     0     0     0     0     0     0     0     0]\n",
      " [    0     0     0     0     0     0     0     0     0     0     0     0\n",
      "      0     0     0     0     0    19     0     0     0     0     0]\n",
      " [    0     0     0     0     0     0     0     0     0     0     0     0\n",
      "      0     0     0     0     0     0     2     0     0     0     0]\n",
      " [    0     0     0     2     0     0     0     0     0     1     1     0\n",
      "      0     0     0     0     0     0     0   383     0     0     0]\n",
      " [    1     0     0     1     0     0     0     0     0     0     0     0\n",
      "      0     0     0     0     0     0     0     0     6     0     0]\n",
      " [    0     0     0     2     0     0     0     0     0     0     0     0\n",
      "      0     0     1     0     0     0     0     0     0     0     0]\n",
      " [    0     0     0     2     0     0     0     0     0     0     0     0\n",
      "      0     0     0     0     0     0     0     0     0     0     0]]\n"
     ]
    }
   ],
   "source": [
    "#Matrice de confusion\n",
    "from sklearn import metrics\n",
    "cm = metrics.confusion_matrix(y_test,y_predLA)\n",
    "print(cm)"
   ]
  },
  {
   "cell_type": "code",
   "execution_count": 29,
   "metadata": {},
   "outputs": [
    {
     "name": "stdout",
     "output_type": "stream",
     "text": [
      "0.9950676760724937\n",
      "0.00493232392750631\n",
      "[0.97293233 0.99726385 0.41176471 0.98529513 1.         1.\n",
      " 1.         0.77564103 0.         0.91025641 1.         0.28571429\n",
      " 0.         1.         0.93650794 1.         0.         1.\n",
      " 1.         0.98966408 0.75       0.         0.        ]\n"
     ]
    },
    {
     "name": "stderr",
     "output_type": "stream",
     "text": [
      "/Users/learegazzetti/opt/anaconda3/lib/python3.8/site-packages/sklearn/metrics/_classification.py:1221: UndefinedMetricWarning: Recall is ill-defined and being set to 0.0 in labels with no true samples. Use `zero_division` parameter to control this behavior.\n",
      "  _warn_prf(average, modifier, msg_start, len(result))\n"
     ]
    }
   ],
   "source": [
    "#Mesures de performance\n",
    "acc = metrics.accuracy_score(y_test,y_predLA)\n",
    "#Succes\n",
    "print(acc) \n",
    "err = 1.0 - acc #0.9950676760724937\n",
    "#Taux d'erreur\n",
    "print(err) #0.00493232392750631\n",
    "\n",
    "#Sensibilité pour chaque modalité de la variable à prédire\n",
    "se = metrics.recall_score(y_test,y_predLA,average=None)\n",
    "print(se)"
   ]
  },
  {
   "cell_type": "code",
   "execution_count": null,
   "metadata": {},
   "outputs": [],
   "source": []
  },
  {
   "cell_type": "code",
   "execution_count": 43,
   "metadata": {},
   "outputs": [],
   "source": [
    "#Analyse discriminante avec les paramètres optimaux : SELECTION DE VARIABLES\n",
    "#Importation\n",
    "#algorithme de sélection de var.\n",
    "from sklearn.feature_selection import RFE \n",
    "selecteur = RFE(estimator=lda)"
   ]
  },
  {
   "cell_type": "code",
   "execution_count": 44,
   "metadata": {},
   "outputs": [],
   "source": [
    "#lancer la recherche\n",
    "sol = selecteur.fit(x_train,y_train)"
   ]
  },
  {
   "cell_type": "code",
   "execution_count": 45,
   "metadata": {},
   "outputs": [
    {
     "name": "stdout",
     "output_type": "stream",
     "text": [
      "[ True  True  True  True  True  True  True  True  True  True  True  True\n",
      "  True  True  True  True  True  True  True  True  True  True  True  True\n",
      "  True  True  True  True  True  True  True  True  True  True  True  True\n",
      "  True  True  True  True  True  True  True  True  True  True  True  True\n",
      "  True  True  True  True  True  True  True  True  True  True  True  True\n",
      "  True  True  True  True  True  True  True  True  True  True  True  True\n",
      "  True  True  True  True False False False False False False False False\n",
      " False  True False False False False False False  True False False False\n",
      " False False False False  True  True False False False False False False\n",
      "  True False False False False  True False False False False  True  True\n",
      " False False False False  True False False  True  True False False False\n",
      "  True False False False  True False False False  True False False False\n",
      " False False False False False  True False False False False False False\n",
      " False False False  True  True  True False False  True False  True False\n",
      " False False False False False False  True False False False False False\n",
      " False False False False False False False False False False False False\n",
      " False False False False False False False False False False False False\n",
      " False False False False False False False False False  True  True False\n",
      " False False False  True  True  True False False False  True  True False\n",
      " False  True False False  True False False False False False  True  True\n",
      "  True  True  True  True  True  True  True  True  True  True  True False\n",
      "  True  True  True  True  True  True  True  True False False  True  True\n",
      "  True  True  True  True  True  True]\n"
     ]
    }
   ],
   "source": [
    "#liste des variables sélect+ionnées\n",
    "print(sol.support_)"
   ]
  },
  {
   "cell_type": "code",
   "execution_count": 46,
   "metadata": {},
   "outputs": [
    {
     "name": "stdout",
     "output_type": "stream",
     "text": [
      "(345815, 135)\n"
     ]
    }
   ],
   "source": [
    "#réduction de la base d'app. aux var. sélectionnées\n",
    "#en utilisant le filtre booléen sol.support_\n",
    "x_new_train = x_train.iloc[:,sol.support_] \n",
    "print(x_new_train.shape) # 135 variables restantes\n"
   ]
  },
  {
   "cell_type": "code",
   "execution_count": 47,
   "metadata": {},
   "outputs": [
    {
     "name": "stdout",
     "output_type": "stream",
     "text": [
      "Index(['V160_m2', 'V160_m3', 'V161_m10', 'V161_m11', 'V161_m12', 'V161_m13',\n",
      "       'V161_m14', 'V161_m15', 'V161_m16', 'V161_m17',\n",
      "       ...\n",
      "       'V188', 'V189', 'V192', 'V193', 'V194', 'V195', 'V196', 'V197', 'V198',\n",
      "       'V199'],\n",
      "      dtype='object', length=135)\n"
     ]
    }
   ],
   "source": [
    "print(x_new_train.columns)"
   ]
  },
  {
   "cell_type": "code",
   "execution_count": 48,
   "metadata": {},
   "outputs": [],
   "source": [
    "#construction du modèle sur les explicatives sélectionnées\n",
    "modele_selLDA = lda.fit(x_new_train,y_train)\n"
   ]
  },
  {
   "cell_type": "code",
   "execution_count": 49,
   "metadata": {},
   "outputs": [
    {
     "name": "stdout",
     "output_type": "stream",
     "text": [
      "(148206, 135)\n"
     ]
    }
   ],
   "source": [
    "#réduction de la base test aux mêmes variables\n",
    "x_new_test = x_test.iloc[:,sol.support_] \n",
    "print(x_new_test.shape)\n"
   ]
  },
  {
   "cell_type": "code",
   "execution_count": 50,
   "metadata": {},
   "outputs": [
    {
     "name": "stdout",
     "output_type": "stream",
     "text": [
      "['m19' 'm19' 'm10' ... 'm1' 'm19' 'm12']\n"
     ]
    }
   ],
   "source": [
    "#prédiction du modèle réduit sur l’éch. test\n",
    "y_pred_selLDA = modele_selLDA.predict(x_new_test)\n",
    "print(y_pred_selLDA)"
   ]
  },
  {
   "cell_type": "code",
   "execution_count": 51,
   "metadata": {},
   "outputs": [
    {
     "name": "stdout",
     "output_type": "stream",
     "text": [
      "                  m1         m10         m11         m12         m13  \\\n",
      "V160_m2   -30.208409  108.997882    1.501096  -14.532152   55.865876   \n",
      "V160_m3    50.497448 -103.536174   -9.974843   35.225643  -39.081354   \n",
      "V161_m10  -65.105642  181.505024   -4.167927  -62.382998   56.275293   \n",
      "V161_m11  -22.469816  113.744795  705.099416  -39.116257   -2.197853   \n",
      "V161_m12 -807.056252 -723.508383 -809.085623 -819.708803 -776.407942   \n",
      "...              ...         ...         ...         ...         ...   \n",
      "V195       20.424969 -293.136811  366.980861   54.647366 -162.494012   \n",
      "V196      -47.350261   98.364177   14.397726  -21.763576  -56.914162   \n",
      "V197       46.762662  -97.144526   14.804467   29.775738 -141.155759   \n",
      "V198       14.318983   40.549280  -35.100732   -8.740718  397.863959   \n",
      "V199      -29.415814   87.185167  -52.265297  -28.228219 -224.622733   \n",
      "\n",
      "                 m14         m15         m16         m17         m18  ...  \\\n",
      "V160_m2   -46.946041  -69.845256  169.628420   14.005712  113.017328  ...   \n",
      "V160_m3    70.307531   49.292197 -164.242288    7.068913 -111.794312  ...   \n",
      "V161_m10  -99.123283   -7.219383  221.095004  -17.995588  120.030466  ...   \n",
      "V161_m11  -45.099229   84.662756   98.637888  -61.858472  164.723514  ...   \n",
      "V161_m12 -818.413887  706.293945 -819.559862 -824.707369 -685.805172  ...   \n",
      "...              ...         ...         ...         ...         ...  ...   \n",
      "V195      -64.354010  537.831103 -353.228948  -48.123256 -146.491245  ...   \n",
      "V196      -15.128087  163.747202   -9.925417 -172.180520  125.778515  ...   \n",
      "V197       77.765178 -133.329028    7.875508  535.329402  -76.731723  ...   \n",
      "V198      -53.332423    1.262427 -119.715926  187.911994   30.883405  ...   \n",
      "V199       -2.787439 -102.962496  277.397608  -54.169143   49.663629  ...   \n",
      "\n",
      "                 m21         m22          m23          m3          m4  \\\n",
      "V160_m2   -80.215637  -23.270645   171.232608  120.815382   33.632613   \n",
      "V160_m3    95.140691   43.733009  -142.433128 -104.140015  -15.924802   \n",
      "V161_m10    6.956186  -60.778042   -93.440097   17.438982 -248.061666   \n",
      "V161_m11   26.657691  -68.767477  -283.548164 -106.446510  -38.964925   \n",
      "V161_m12 -811.263893 -882.170770 -1105.647384 -966.129198 -910.769367   \n",
      "...              ...         ...          ...         ...         ...   \n",
      "V195       -0.936781  233.411658   -56.340339  218.707247 -308.729408   \n",
      "V196     -235.245423   45.772900    -4.152335   32.767221   60.230585   \n",
      "V197      101.871022   -3.089232    -0.295290   74.927934  332.080283   \n",
      "V198      264.784158  -19.348073   -33.898152  -73.193760   65.600740   \n",
      "V199     -159.033128  -45.294233   -40.021934  -44.367961  152.252432   \n",
      "\n",
      "                  m5           m6           m7          m8           m9  \n",
      "V160_m2   216.869010   -11.644344   -77.813118   90.843548   107.371287  \n",
      "V160_m3  -210.126484   -11.873832    86.970047  -73.570991   -81.198470  \n",
      "V161_m10  100.939674    71.214144    50.801114   39.956916   -59.392749  \n",
      "V161_m11  110.611191   952.674937    86.655579  -91.032049  -201.409967  \n",
      "V161_m12 -994.032766  -671.812291  -740.422039 -918.395215 -1013.916525  \n",
      "...              ...          ...          ...         ...          ...  \n",
      "V195       37.793556  1192.258885   559.115540  353.286009   -76.439483  \n",
      "V196     -139.684203    28.995408  1070.169486  -67.039985   -87.556412  \n",
      "V197      428.173915   -70.773643 -3802.294876  -89.411406    35.262941  \n",
      "V198       44.270005   -44.472422    17.084380  -43.845110   -33.049188  \n",
      "V199      -83.845501  -162.698487   -88.773306  -63.122291   -25.521282  \n",
      "\n",
      "[135 rows x 23 columns]\n",
      "[ 2.62056248e+02  3.36018784e+02 -1.07448617e+03  2.31266374e+02\n",
      " -1.12653572e+04 -8.25400171e+03 -5.32850720e+03  9.42117421e+02\n",
      " -2.99252949e+03  1.50115016e+02 -8.67825474e+02 -3.13675301e+03\n",
      " -8.11201710e+03 -4.21071833e+04  5.63388493e+00 -2.84901982e+02\n",
      " -5.74237529e+03 -5.72629172e+03 -3.52374883e+03 -8.00434277e+02\n",
      " -1.14862201e+03 -3.59701157e+03 -2.87029764e+03]\n"
     ]
    }
   ],
   "source": [
    "#affichage des coefficients\n",
    "tmp= pandas.DataFrame(lda.coef_.transpose(),columns=lda.classes_,index=x_new_train.columns)\n",
    "print(tmp)\n",
    "#et les constantes pour chaque classe\n",
    "print(lda.intercept_)"
   ]
  },
  {
   "cell_type": "code",
   "execution_count": 52,
   "metadata": {},
   "outputs": [
    {
     "name": "stdout",
     "output_type": "stream",
     "text": [
      "[[  644     0     0     6     0     0     0    15     0     0     0     0\n",
      "      0     0     0     0     0     0     0     0     0     0     0]\n",
      " [    0 32070     0    29     0     0     0     0     0    21     0     0\n",
      "      0     0     0     0     0     0    34     0     8     0     0]\n",
      " [    0     0    28     8     0     0     0     0     0     0     0     0\n",
      "      0     0     0     0     0     0     0    32     0     0     0]\n",
      " [   80     8     0 28472     0     5     1     3     0    15   104     0\n",
      "      3     0    95   187     0     1     0   114    11     0     7]\n",
      " [    0     0     0     0     1     0     0     0     0     0     0     0\n",
      "      0     0     0     0     0     0     0     0     0     0     0]\n",
      " [    0     0     0     0     0     1     0     0     0     0     0     0\n",
      "      0     0     0     0     0     0     0     0     0     0     0]\n",
      " [    0     0     0     0     0     0    81     0     0     0     0     0\n",
      "      0     0     0     0     0     0     0     0     0     0     0]\n",
      " [    0    14     0     0     0     0     0   242     0    56     0     0\n",
      "      0     0     0     0     0     0     0     0     0     0     0]\n",
      " [    0     0     0     5     0     0     0     0     0     0     0     0\n",
      "      0     0     0     0     0     1     0     0     0     0     0]\n",
      " [    0     1     0    38     0     0     0     0     0   427     0     0\n",
      "      0     0     0     0     0     0     0     2     0     0     0]\n",
      " [    0     0     0     0     0     0     0     0     0     0 84270     0\n",
      "      0     0     0     0     0     0     0     0     0     0     0]\n",
      " [    0     1     0     0     0     3     0     0     0     0     0     1\n",
      "      0     0     2     0     0     0     0     0     0     0     0]\n",
      " [    0     0     0     0     0     0     0     0     0     0     0     0\n",
      "      0     0     0     0     0     0     0     0     0     0     0]\n",
      " [    0     0     0     0     0     0     0     0     0     0     0     0\n",
      "      0   316     0     0     0     0     0     0     0     0     0]\n",
      " [    3     0     0    19     0     0     0     0     0     0     0     0\n",
      "      0     0   292     0     0     0     0     0     1     0     0]\n",
      " [    0     0     0     0     0     0     0     0     0     0     0     0\n",
      "      0     0     0     4     0     0     0     0     0     0     0]\n",
      " [    0     0     0     0     0     0     0     0     0     0     0     0\n",
      "      0     0     1     2     0     0     0     0     0     0     0]\n",
      " [    0     0     0     0     0     0     0     0     0     0     0     0\n",
      "      0     0     0     0     0    19     0     0     0     0     0]\n",
      " [    0     0     0     0     0     0     0     0     0     0     0     0\n",
      "      0     0     0     0     0     0     2     0     0     0     0]\n",
      " [    0     0     0     1     0     0     0     0     0     2     1     0\n",
      "      0     0     0     0     0     0     0   383     0     0     0]\n",
      " [    1     0     0     1     0     0     0     0     0     0     0     0\n",
      "      0     0     0     0     0     0     0     3     3     0     0]\n",
      " [    0     0     0     2     0     0     0     0     0     0     0     0\n",
      "      0     0     1     0     0     0     0     0     0     0     0]\n",
      " [    0     0     0     0     0     0     0     0     0     0     0     0\n",
      "      0     0     0     2     0     0     0     0     0     0     0]]\n"
     ]
    }
   ],
   "source": [
    "#Matrice de confusion\n",
    "from sklearn import metrics\n",
    "cm = metrics.confusion_matrix(y_test,y_pred_selLDA)\n",
    "print(cm)"
   ]
  },
  {
   "cell_type": "code",
   "execution_count": 53,
   "metadata": {},
   "outputs": [
    {
     "name": "stdout",
     "output_type": "stream",
     "text": [
      "0.993590003103788\n",
      "0.006409996896212022\n"
     ]
    }
   ],
   "source": [
    "#évaluation des performances\n",
    "from sklearn import metrics\n",
    "acc = metrics.accuracy_score(y_test,y_pred_selLDA) \n",
    "#Succes\n",
    "print(acc) \n",
    "err = 1.0 - acc\n",
    "#Taux d'erreur\n",
    "print(err) #Légèrement plus élevé,0.006409996896212022, avec moitié moins de variables (273 au début, 135 ici  c'est la condition d'arrêt de l'algo de sélection de variables)\n"
   ]
  },
  {
   "cell_type": "code",
   "execution_count": null,
   "metadata": {},
   "outputs": [],
   "source": []
  }
 ],
 "metadata": {
  "kernelspec": {
   "display_name": "Python 3",
   "language": "python",
   "name": "python3"
  },
  "language_info": {
   "codemirror_mode": {
    "name": "ipython",
    "version": 3
   },
   "file_extension": ".py",
   "mimetype": "text/x-python",
   "name": "python",
   "nbconvert_exporter": "python",
   "pygments_lexer": "ipython3",
   "version": "3.8.5"
  }
 },
 "nbformat": 4,
 "nbformat_minor": 4
}
